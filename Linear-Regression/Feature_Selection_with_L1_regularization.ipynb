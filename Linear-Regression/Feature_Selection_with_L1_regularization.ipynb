{
  "nbformat": 4,
  "nbformat_minor": 0,
  "metadata": {
    "colab": {
      "provenance": []
    },
    "kernelspec": {
      "name": "python3",
      "display_name": "Python 3"
    }
  },
  "cells": [
    {
      "cell_type": "markdown",
      "metadata": {
        "id": "SxzR9Eli9Z0S"
      },
      "source": [
        "# Feature selection with L1 Regularization"
      ]
    },
    {
      "cell_type": "markdown",
      "metadata": {
        "id": "MK2qVQww9rSg"
      },
      "source": [
        "* Consider a supervised learning setting where you have data $\\mathcal{D} = \\{(X, Y)\\}$, where $X \\in \\mathbb{R}^{NXD}$. $N$  - num of datapoints and $D$ - num of features. Many of the features may be irrelevant for the task at hand.\n",
        "* Typically when there are more features than samples, ie. $D >> N$, a simple linear regression model is prone to overfit.\n",
        "* As we have seen before, regularization is one of the tools in our toolbox to combat overfitting. Here we will see how they do that and how $L1$ regularization can be used for feature selection."
      ]
    },
    {
      "cell_type": "markdown",
      "metadata": {
        "id": "bHl0lb8A_MWd"
      },
      "source": [
        "## Tasks\n",
        "\n",
        "1.  Load the data \"cancer_reg.csv\" data from [here](https://data.world/nrippner/ols-regression-challenge). A slightly modified copy will be shared with you on workplace. Target is labeled \"TARGET_deathRate\".\n",
        "2. Preprocess your data particularly making sure there are no nan values.\n",
        "3. Split the data into 20\\% train and 80\\% test sets.\n",
        "4. Define your linear regression model with and without regularization ($L1$ and $L2$)\n",
        "5. Train and test your linear regression models (without regularization) till it overfits the data. Plot the learning curves for training and testing (You may ignore loss values for the first 10 epochs)\n",
        "6. Train and test again with regularization and visually inspect the effects.\n",
        "7. Plot the weights for each model (using matplotlib stem plot). Do you see any difference between them?\n",
        "8. In the case of the $L1$ regularization, set a small threshold and remove all features of the data corresponding to the weights with values below this threshold.\n",
        "9. Train a new model with remaining features (with or without regularization)\n"
      ]
    },
    {
      "cell_type": "code",
      "metadata": {
        "id": "PmMz0oqMU5PJ"
      },
      "source": [
        "import numpy as np\n",
        "import pandas as pd"
      ],
      "execution_count": null,
      "outputs": []
    },
    {
      "cell_type": "markdown",
      "metadata": {
        "id": "1A46daxRuCM0"
      },
      "source": [
        "Load the data \"cancer_reg.csv\" data from here. A slightly modified copy will be shared with you on workplace. Target is labeled \"TARGET_deathRate\"."
      ]
    },
    {
      "cell_type": "code",
      "metadata": {
        "id": "H2FhYUCMuCxm"
      },
      "source": [
        "class Dataset:\n",
        "  def __init__(self, path, test_size=0.8):\n",
        "    self.test_size = test_size\n",
        "    self.initialize(path)\n",
        "    \n",
        "  def initialize(self, path):\n",
        "    data = pd.read_csv(path)\n",
        "    for col in data.columns:\n",
        "      if data[col].isna().sum()!=0:\n",
        "        data[col][data[col].isna()] = data[col].mean()\n",
        "        \n",
        "    data = data.drop(\"Unnamed: 0\", axis=1)\n",
        "    target = data[\"TARGET_deathRate\"].values\n",
        "    inputs = data.drop(\"TARGET_deathRate\", axis=1).values\n",
        "    inputs = inputs/inputs.max(axis=0)\n",
        "\n",
        "    self.target = target\n",
        "    self.inputs = inputs\n",
        "\n",
        "    indices = np.arange(len(self.target))\n",
        "    np.random.shuffle(indices)\n",
        "    test_num_points = int(self.test_size * len(indices))\n",
        "    test_indices = indices[:test_num_points]\n",
        "    train_indices = indices[test_num_points:]\n",
        "\n",
        "    self.train_inputs = self.inputs[train_indices]\n",
        "    self.test_inputs = self.inputs[test_indices]\n",
        "    self.train_targets = self.target[train_indices]\n",
        "    self.test_targets = self.target[test_indices]\n",
        "  \n",
        "\n",
        "\n",
        "    "
      ],
      "execution_count": null,
      "outputs": []
    },
    {
      "cell_type": "code",
      "metadata": {
        "colab": {
          "base_uri": "https://localhost:8080/",
          "height": 375
        },
        "id": "9ydnyPIuwli_",
        "outputId": "08197ec0-483f-4f53-bc3b-c4d6c4599386"
      },
      "source": [
        "dataset = Dataset(\"cancer-mortality-rate.csv\")"
      ],
      "execution_count": null,
      "outputs": [
        {
          "output_type": "error",
          "ename": "FileNotFoundError",
          "evalue": "ignored",
          "traceback": [
            "\u001b[0;31m---------------------------------------------------------------------------\u001b[0m",
            "\u001b[0;31mFileNotFoundError\u001b[0m                         Traceback (most recent call last)",
            "\u001b[0;32m<ipython-input-4-ac946d55f65c>\u001b[0m in \u001b[0;36m<module>\u001b[0;34m()\u001b[0m\n\u001b[0;32m----> 1\u001b[0;31m \u001b[0mdataset\u001b[0m \u001b[0;34m=\u001b[0m \u001b[0mDataset\u001b[0m\u001b[0;34m(\u001b[0m\u001b[0;34m\"cancer-mortality-rate.csv\"\u001b[0m\u001b[0;34m)\u001b[0m\u001b[0;34m\u001b[0m\u001b[0;34m\u001b[0m\u001b[0m\n\u001b[0m",
            "\u001b[0;32m<ipython-input-3-4a8150f7d1c5>\u001b[0m in \u001b[0;36m__init__\u001b[0;34m(self, path, test_size)\u001b[0m\n\u001b[1;32m      2\u001b[0m   \u001b[0;32mdef\u001b[0m \u001b[0m__init__\u001b[0m\u001b[0;34m(\u001b[0m\u001b[0mself\u001b[0m\u001b[0;34m,\u001b[0m \u001b[0mpath\u001b[0m\u001b[0;34m,\u001b[0m \u001b[0mtest_size\u001b[0m\u001b[0;34m=\u001b[0m\u001b[0;36m0.8\u001b[0m\u001b[0;34m)\u001b[0m\u001b[0;34m:\u001b[0m\u001b[0;34m\u001b[0m\u001b[0;34m\u001b[0m\u001b[0m\n\u001b[1;32m      3\u001b[0m     \u001b[0mself\u001b[0m\u001b[0;34m.\u001b[0m\u001b[0mtest_size\u001b[0m \u001b[0;34m=\u001b[0m \u001b[0mtest_size\u001b[0m\u001b[0;34m\u001b[0m\u001b[0;34m\u001b[0m\u001b[0m\n\u001b[0;32m----> 4\u001b[0;31m     \u001b[0mself\u001b[0m\u001b[0;34m.\u001b[0m\u001b[0minitialize\u001b[0m\u001b[0;34m(\u001b[0m\u001b[0mpath\u001b[0m\u001b[0;34m)\u001b[0m\u001b[0;34m\u001b[0m\u001b[0;34m\u001b[0m\u001b[0m\n\u001b[0m\u001b[1;32m      5\u001b[0m \u001b[0;34m\u001b[0m\u001b[0m\n\u001b[1;32m      6\u001b[0m   \u001b[0;32mdef\u001b[0m \u001b[0minitialize\u001b[0m\u001b[0;34m(\u001b[0m\u001b[0mself\u001b[0m\u001b[0;34m,\u001b[0m \u001b[0mpath\u001b[0m\u001b[0;34m)\u001b[0m\u001b[0;34m:\u001b[0m\u001b[0;34m\u001b[0m\u001b[0;34m\u001b[0m\u001b[0m\n",
            "\u001b[0;32m<ipython-input-3-4a8150f7d1c5>\u001b[0m in \u001b[0;36minitialize\u001b[0;34m(self, path)\u001b[0m\n\u001b[1;32m      5\u001b[0m \u001b[0;34m\u001b[0m\u001b[0m\n\u001b[1;32m      6\u001b[0m   \u001b[0;32mdef\u001b[0m \u001b[0minitialize\u001b[0m\u001b[0;34m(\u001b[0m\u001b[0mself\u001b[0m\u001b[0;34m,\u001b[0m \u001b[0mpath\u001b[0m\u001b[0;34m)\u001b[0m\u001b[0;34m:\u001b[0m\u001b[0;34m\u001b[0m\u001b[0;34m\u001b[0m\u001b[0m\n\u001b[0;32m----> 7\u001b[0;31m     \u001b[0mdata\u001b[0m \u001b[0;34m=\u001b[0m \u001b[0mpd\u001b[0m\u001b[0;34m.\u001b[0m\u001b[0mread_csv\u001b[0m\u001b[0;34m(\u001b[0m\u001b[0mpath\u001b[0m\u001b[0;34m)\u001b[0m\u001b[0;34m\u001b[0m\u001b[0;34m\u001b[0m\u001b[0m\n\u001b[0m\u001b[1;32m      8\u001b[0m     \u001b[0;32mfor\u001b[0m \u001b[0mcol\u001b[0m \u001b[0;32min\u001b[0m \u001b[0mdata\u001b[0m\u001b[0;34m.\u001b[0m\u001b[0mcolumns\u001b[0m\u001b[0;34m:\u001b[0m\u001b[0;34m\u001b[0m\u001b[0;34m\u001b[0m\u001b[0m\n\u001b[1;32m      9\u001b[0m       \u001b[0;32mif\u001b[0m \u001b[0mdata\u001b[0m\u001b[0;34m[\u001b[0m\u001b[0mcol\u001b[0m\u001b[0;34m]\u001b[0m\u001b[0;34m.\u001b[0m\u001b[0misna\u001b[0m\u001b[0;34m(\u001b[0m\u001b[0;34m)\u001b[0m\u001b[0;34m.\u001b[0m\u001b[0msum\u001b[0m\u001b[0;34m(\u001b[0m\u001b[0;34m)\u001b[0m\u001b[0;34m!=\u001b[0m\u001b[0;36m0\u001b[0m\u001b[0;34m:\u001b[0m\u001b[0;34m\u001b[0m\u001b[0;34m\u001b[0m\u001b[0m\n",
            "\u001b[0;32m/usr/local/lib/python3.7/dist-packages/pandas/io/parsers.py\u001b[0m in \u001b[0;36mread_csv\u001b[0;34m(filepath_or_buffer, sep, delimiter, header, names, index_col, usecols, squeeze, prefix, mangle_dupe_cols, dtype, engine, converters, true_values, false_values, skipinitialspace, skiprows, skipfooter, nrows, na_values, keep_default_na, na_filter, verbose, skip_blank_lines, parse_dates, infer_datetime_format, keep_date_col, date_parser, dayfirst, cache_dates, iterator, chunksize, compression, thousands, decimal, lineterminator, quotechar, quoting, doublequote, escapechar, comment, encoding, dialect, error_bad_lines, warn_bad_lines, delim_whitespace, low_memory, memory_map, float_precision)\u001b[0m\n\u001b[1;32m    686\u001b[0m     )\n\u001b[1;32m    687\u001b[0m \u001b[0;34m\u001b[0m\u001b[0m\n\u001b[0;32m--> 688\u001b[0;31m     \u001b[0;32mreturn\u001b[0m \u001b[0m_read\u001b[0m\u001b[0;34m(\u001b[0m\u001b[0mfilepath_or_buffer\u001b[0m\u001b[0;34m,\u001b[0m \u001b[0mkwds\u001b[0m\u001b[0;34m)\u001b[0m\u001b[0;34m\u001b[0m\u001b[0;34m\u001b[0m\u001b[0m\n\u001b[0m\u001b[1;32m    689\u001b[0m \u001b[0;34m\u001b[0m\u001b[0m\n\u001b[1;32m    690\u001b[0m \u001b[0;34m\u001b[0m\u001b[0m\n",
            "\u001b[0;32m/usr/local/lib/python3.7/dist-packages/pandas/io/parsers.py\u001b[0m in \u001b[0;36m_read\u001b[0;34m(filepath_or_buffer, kwds)\u001b[0m\n\u001b[1;32m    452\u001b[0m \u001b[0;34m\u001b[0m\u001b[0m\n\u001b[1;32m    453\u001b[0m     \u001b[0;31m# Create the parser.\u001b[0m\u001b[0;34m\u001b[0m\u001b[0;34m\u001b[0m\u001b[0;34m\u001b[0m\u001b[0m\n\u001b[0;32m--> 454\u001b[0;31m     \u001b[0mparser\u001b[0m \u001b[0;34m=\u001b[0m \u001b[0mTextFileReader\u001b[0m\u001b[0;34m(\u001b[0m\u001b[0mfp_or_buf\u001b[0m\u001b[0;34m,\u001b[0m \u001b[0;34m**\u001b[0m\u001b[0mkwds\u001b[0m\u001b[0;34m)\u001b[0m\u001b[0;34m\u001b[0m\u001b[0;34m\u001b[0m\u001b[0m\n\u001b[0m\u001b[1;32m    455\u001b[0m \u001b[0;34m\u001b[0m\u001b[0m\n\u001b[1;32m    456\u001b[0m     \u001b[0;32mif\u001b[0m \u001b[0mchunksize\u001b[0m \u001b[0;32mor\u001b[0m \u001b[0miterator\u001b[0m\u001b[0;34m:\u001b[0m\u001b[0;34m\u001b[0m\u001b[0;34m\u001b[0m\u001b[0m\n",
            "\u001b[0;32m/usr/local/lib/python3.7/dist-packages/pandas/io/parsers.py\u001b[0m in \u001b[0;36m__init__\u001b[0;34m(self, f, engine, **kwds)\u001b[0m\n\u001b[1;32m    946\u001b[0m             \u001b[0mself\u001b[0m\u001b[0;34m.\u001b[0m\u001b[0moptions\u001b[0m\u001b[0;34m[\u001b[0m\u001b[0;34m\"has_index_names\"\u001b[0m\u001b[0;34m]\u001b[0m \u001b[0;34m=\u001b[0m \u001b[0mkwds\u001b[0m\u001b[0;34m[\u001b[0m\u001b[0;34m\"has_index_names\"\u001b[0m\u001b[0;34m]\u001b[0m\u001b[0;34m\u001b[0m\u001b[0;34m\u001b[0m\u001b[0m\n\u001b[1;32m    947\u001b[0m \u001b[0;34m\u001b[0m\u001b[0m\n\u001b[0;32m--> 948\u001b[0;31m         \u001b[0mself\u001b[0m\u001b[0;34m.\u001b[0m\u001b[0m_make_engine\u001b[0m\u001b[0;34m(\u001b[0m\u001b[0mself\u001b[0m\u001b[0;34m.\u001b[0m\u001b[0mengine\u001b[0m\u001b[0;34m)\u001b[0m\u001b[0;34m\u001b[0m\u001b[0;34m\u001b[0m\u001b[0m\n\u001b[0m\u001b[1;32m    949\u001b[0m \u001b[0;34m\u001b[0m\u001b[0m\n\u001b[1;32m    950\u001b[0m     \u001b[0;32mdef\u001b[0m \u001b[0mclose\u001b[0m\u001b[0;34m(\u001b[0m\u001b[0mself\u001b[0m\u001b[0;34m)\u001b[0m\u001b[0;34m:\u001b[0m\u001b[0;34m\u001b[0m\u001b[0;34m\u001b[0m\u001b[0m\n",
            "\u001b[0;32m/usr/local/lib/python3.7/dist-packages/pandas/io/parsers.py\u001b[0m in \u001b[0;36m_make_engine\u001b[0;34m(self, engine)\u001b[0m\n\u001b[1;32m   1178\u001b[0m     \u001b[0;32mdef\u001b[0m \u001b[0m_make_engine\u001b[0m\u001b[0;34m(\u001b[0m\u001b[0mself\u001b[0m\u001b[0;34m,\u001b[0m \u001b[0mengine\u001b[0m\u001b[0;34m=\u001b[0m\u001b[0;34m\"c\"\u001b[0m\u001b[0;34m)\u001b[0m\u001b[0;34m:\u001b[0m\u001b[0;34m\u001b[0m\u001b[0;34m\u001b[0m\u001b[0m\n\u001b[1;32m   1179\u001b[0m         \u001b[0;32mif\u001b[0m \u001b[0mengine\u001b[0m \u001b[0;34m==\u001b[0m \u001b[0;34m\"c\"\u001b[0m\u001b[0;34m:\u001b[0m\u001b[0;34m\u001b[0m\u001b[0;34m\u001b[0m\u001b[0m\n\u001b[0;32m-> 1180\u001b[0;31m             \u001b[0mself\u001b[0m\u001b[0;34m.\u001b[0m\u001b[0m_engine\u001b[0m \u001b[0;34m=\u001b[0m \u001b[0mCParserWrapper\u001b[0m\u001b[0;34m(\u001b[0m\u001b[0mself\u001b[0m\u001b[0;34m.\u001b[0m\u001b[0mf\u001b[0m\u001b[0;34m,\u001b[0m \u001b[0;34m**\u001b[0m\u001b[0mself\u001b[0m\u001b[0;34m.\u001b[0m\u001b[0moptions\u001b[0m\u001b[0;34m)\u001b[0m\u001b[0;34m\u001b[0m\u001b[0;34m\u001b[0m\u001b[0m\n\u001b[0m\u001b[1;32m   1181\u001b[0m         \u001b[0;32melse\u001b[0m\u001b[0;34m:\u001b[0m\u001b[0;34m\u001b[0m\u001b[0;34m\u001b[0m\u001b[0m\n\u001b[1;32m   1182\u001b[0m             \u001b[0;32mif\u001b[0m \u001b[0mengine\u001b[0m \u001b[0;34m==\u001b[0m \u001b[0;34m\"python\"\u001b[0m\u001b[0;34m:\u001b[0m\u001b[0;34m\u001b[0m\u001b[0;34m\u001b[0m\u001b[0m\n",
            "\u001b[0;32m/usr/local/lib/python3.7/dist-packages/pandas/io/parsers.py\u001b[0m in \u001b[0;36m__init__\u001b[0;34m(self, src, **kwds)\u001b[0m\n\u001b[1;32m   2008\u001b[0m         \u001b[0mkwds\u001b[0m\u001b[0;34m[\u001b[0m\u001b[0;34m\"usecols\"\u001b[0m\u001b[0;34m]\u001b[0m \u001b[0;34m=\u001b[0m \u001b[0mself\u001b[0m\u001b[0;34m.\u001b[0m\u001b[0musecols\u001b[0m\u001b[0;34m\u001b[0m\u001b[0;34m\u001b[0m\u001b[0m\n\u001b[1;32m   2009\u001b[0m \u001b[0;34m\u001b[0m\u001b[0m\n\u001b[0;32m-> 2010\u001b[0;31m         \u001b[0mself\u001b[0m\u001b[0;34m.\u001b[0m\u001b[0m_reader\u001b[0m \u001b[0;34m=\u001b[0m \u001b[0mparsers\u001b[0m\u001b[0;34m.\u001b[0m\u001b[0mTextReader\u001b[0m\u001b[0;34m(\u001b[0m\u001b[0msrc\u001b[0m\u001b[0;34m,\u001b[0m \u001b[0;34m**\u001b[0m\u001b[0mkwds\u001b[0m\u001b[0;34m)\u001b[0m\u001b[0;34m\u001b[0m\u001b[0;34m\u001b[0m\u001b[0m\n\u001b[0m\u001b[1;32m   2011\u001b[0m         \u001b[0mself\u001b[0m\u001b[0;34m.\u001b[0m\u001b[0munnamed_cols\u001b[0m \u001b[0;34m=\u001b[0m \u001b[0mself\u001b[0m\u001b[0;34m.\u001b[0m\u001b[0m_reader\u001b[0m\u001b[0;34m.\u001b[0m\u001b[0munnamed_cols\u001b[0m\u001b[0;34m\u001b[0m\u001b[0;34m\u001b[0m\u001b[0m\n\u001b[1;32m   2012\u001b[0m \u001b[0;34m\u001b[0m\u001b[0m\n",
            "\u001b[0;32mpandas/_libs/parsers.pyx\u001b[0m in \u001b[0;36mpandas._libs.parsers.TextReader.__cinit__\u001b[0;34m()\u001b[0m\n",
            "\u001b[0;32mpandas/_libs/parsers.pyx\u001b[0m in \u001b[0;36mpandas._libs.parsers.TextReader._setup_parser_source\u001b[0;34m()\u001b[0m\n",
            "\u001b[0;31mFileNotFoundError\u001b[0m: [Errno 2] No such file or directory: 'cancer-mortality-rate.csv'"
          ]
        }
      ]
    },
    {
      "cell_type": "code",
      "metadata": {
        "colab": {
          "base_uri": "https://localhost:8080/"
        },
        "id": "u-k8GyQpxR_U",
        "outputId": "c9e128e9-437b-4e13-d59e-ae42afaec58f"
      },
      "source": [],
      "execution_count": null,
      "outputs": [
        {
          "output_type": "execute_result",
          "data": {
            "text/plain": [
              "(610, 279)"
            ]
          },
          "metadata": {
            "tags": []
          },
          "execution_count": 20
        }
      ]
    },
    {
      "cell_type": "code",
      "metadata": {
        "id": "3U3jaTBPzx7z"
      },
      "source": [
        "import matplotlib.pyplot as plt"
      ],
      "execution_count": null,
      "outputs": []
    },
    {
      "cell_type": "code",
      "metadata": {
        "colab": {
          "base_uri": "https://localhost:8080/"
        },
        "id": "SGvGR2oHxlJl",
        "outputId": "b640d2cd-ab63-4ed7-b352-3617509f326d"
      },
      "source": [
        "print(\"train inputs shape: \",dataset.train_inputs.shape)\n",
        "print(\"test inputs shape: \",dataset.test_inputs.shape)"
      ],
      "execution_count": null,
      "outputs": [
        {
          "output_type": "stream",
          "text": [
            "train inputs shape:  (610, 279)\n",
            "test inputs shape:  (2437, 279)\n"
          ],
          "name": "stdout"
        }
      ]
    },
    {
      "cell_type": "code",
      "metadata": {
        "id": "oXRK_02NxyqP"
      },
      "source": [
        "class LinearRegressionModel:\n",
        "  def __init__(self, dataset, l1 = 0.9, l2 = 0.01, lr = 0.001, epochs=10000):\n",
        "    self.dataset = dataset\n",
        "    self.l1 = l1\n",
        "    self.l2 = l2\n",
        "    self.learning_rate = lr\n",
        "    self.epochs = epochs\n",
        "    self.theta = np.random.randn(dataset.train_inputs.shape[1]+1)\n",
        "  def add_one(self, x):\n",
        "    ones = np.ones((len(x), 1))\n",
        "    x = np.concatenate([x,  ones], axis=1)\n",
        "    return x\n",
        "\n",
        "  def inference(self, x):\n",
        "    return x @ self.theta\n",
        "  def compute_mse_loss(self, y_true, y_pred):\n",
        "    return ((y_true - y_pred)**2).mean()\n",
        "  def plot(self, train_losses, test_losses):\n",
        "    plt.figure()\n",
        "    plt.title(\"losses\")\n",
        "    plt.plot(train_losses[10:], label=\"train-loss\")\n",
        "    plt.plot(test_losses[10:], label=\"test-loss\")\n",
        "    plt.legend()\n",
        "    plt.figure()\n",
        "    plt.title(\"Theta values\")\n",
        "    plt.stem(self.theta)\n",
        "    plt.show()\n",
        "  def train(self):\n",
        "    train_losses = []\n",
        "    test_losses = []\n",
        "    for epoch in range(self.epochs):\n",
        "      batch_size = 32\n",
        "      if (len(self.dataset.train_inputs) % batch_size ) == 0:\n",
        "        number_of_batches = len(self.dataset.train_inputs)//batch_size\n",
        "      else:\n",
        "        number_of_batches = len(self.dataset.train_inputs)//batch_size + 1\n",
        "      epoch_losses = []\n",
        "      for batch_number in range(number_of_batches):\n",
        "        x = self.dataset.train_inputs[batch_number * batch_size: (batch_number + 1) * batch_size]\n",
        "        y = self.dataset.train_targets[batch_number * batch_size: (batch_number + 1) * batch_size]\n",
        "        x = self.add_one(x)\n",
        "      \n",
        "        y_pred = self.inference(x)\n",
        "\n",
        "        gradient = x.T @ (self.inference(x) - y)\n",
        "        if self.l1 != 0.0:\n",
        "          l1_norm_grad =((self.theta > 0).astype(float) * 2 - 1) * self.l1\n",
        "        else:\n",
        "          l1_norm_grad = 0\n",
        "        \n",
        "        if self.l2 != 0.0:\n",
        "          l2_norm_grad = self.theta * self.l2\n",
        "        else:\n",
        "          l2_norm_grad = 0\n",
        "        gradient = gradient + l1_norm_grad + l2_norm_grad\n",
        "        \n",
        "        self.theta -= gradient * self.learning_rate\n",
        "\n",
        "        loss = self.compute_mse_loss(y_pred, y)\n",
        "        epoch_losses.append(loss)\n",
        "\n",
        "      train_losses.append(np.mean(epoch_losses))\n",
        "      \n",
        "      test_inputs = self.dataset.test_inputs\n",
        "      test_inputs = self.add_one(test_inputs)\n",
        "      y_pred_test = self.inference(test_inputs)\n",
        "      test_loss = self.compute_mse_loss(self.dataset.test_targets, y_pred_test)\n",
        "      test_losses.append(test_loss)\n",
        "      if epoch % 1000==0:\n",
        "        print(\"Epoch: {} train - loss: {}\".format(epoch, np.mean(epoch_losses), test_loss))\n",
        "    self.plot(train_losses, test_losses)\n",
        "\n",
        "\n",
        "\n"
      ],
      "execution_count": null,
      "outputs": []
    },
    {
      "cell_type": "code",
      "metadata": {
        "id": "rcCen9zUyQVo"
      },
      "source": [
        "model = LinearRegressionModel(dataset, l2=0.0, l1=0.0)"
      ],
      "execution_count": null,
      "outputs": []
    },
    {
      "cell_type": "code",
      "metadata": {
        "colab": {
          "base_uri": "https://localhost:8080/",
          "height": 752
        },
        "id": "cJOf_iwOyi49",
        "outputId": "61f34fdd-0221-402a-ea66-13a5819e26ec"
      },
      "source": [
        "model.train()"
      ],
      "execution_count": null,
      "outputs": [
        {
          "output_type": "stream",
          "text": [
            "Epoch: 0 train - loss: 3932.4014667843594\n",
            "Epoch: 1000 train - loss: 350.63095699181633\n",
            "Epoch: 2000 train - loss: 332.28595332053254\n",
            "Epoch: 3000 train - loss: 323.46024921620005\n",
            "Epoch: 4000 train - loss: 317.58078282493113\n",
            "Epoch: 5000 train - loss: 313.15505935893714\n",
            "Epoch: 6000 train - loss: 309.6088347607767\n",
            "Epoch: 7000 train - loss: 306.6527629265166\n",
            "Epoch: 8000 train - loss: 304.1204643083883\n",
            "Epoch: 9000 train - loss: 301.9085514165341\n"
          ],
          "name": "stdout"
        },
        {
          "output_type": "stream",
          "text": [
            "/usr/local/lib/python3.7/dist-packages/ipykernel_launcher.py:26: UserWarning: In Matplotlib 3.3 individual lines on a stem plot will be added as a LineCollection instead of individual lines. This significantly improves the performance of a stem plot. To remove this warning and switch to the new behaviour, set the \"use_line_collection\" keyword argument to True.\n"
          ],
          "name": "stderr"
        },
        {
          "output_type": "display_data",
          "data": {
            "image/png": "[encoded data removed]",
            "text/plain": [
              "<Figure size 432x288 with 1 Axes>"
            ]
          },
          "metadata": {
            "tags": [],
            "needs_background": "light"
          }
        },
        {
          "output_type": "display_data",
          "data": {
            "image/png": "[encoded data removed]",
            "text/plain": [
              "<Figure size 432x288 with 1 Axes>"
            ]
          },
          "metadata": {
            "tags": [],
            "needs_background": "light"
          }
        }
      ]
    },
    {
      "cell_type": "code",
      "metadata": {
        "id": "7ZHQuUDN_VBV"
      },
      "source": [
        "model = LinearRegressionModel(dataset, l2=0.0, l1=0.9)"
      ],
      "execution_count": null,
      "outputs": []
    },
    {
      "cell_type": "code",
      "metadata": {
        "colab": {
          "base_uri": "https://localhost:8080/",
          "height": 752
        },
        "id": "OMZSU94CDAD4",
        "outputId": "021153ac-45c3-4c11-bb6c-2a61aa89d295"
      },
      "source": [
        "model.train()"
      ],
      "execution_count": null,
      "outputs": [
        {
          "output_type": "stream",
          "text": [
            "Epoch: 0 train - loss: 3988.215719787746\n",
            "Epoch: 1000 train - loss: 386.86437852433465\n",
            "Epoch: 2000 train - loss: 377.88910309042575\n",
            "Epoch: 3000 train - loss: 373.59604037703434\n",
            "Epoch: 4000 train - loss: 371.67130884316737\n",
            "Epoch: 5000 train - loss: 370.30975948262386\n",
            "Epoch: 6000 train - loss: 369.29115773186254\n",
            "Epoch: 7000 train - loss: 368.47474442693516\n",
            "Epoch: 8000 train - loss: 367.78914215329013\n",
            "Epoch: 9000 train - loss: 367.19054642675377\n"
          ],
          "name": "stdout"
        },
        {
          "output_type": "stream",
          "text": [
            "/usr/local/lib/python3.7/dist-packages/ipykernel_launcher.py:26: UserWarning: In Matplotlib 3.3 individual lines on a stem plot will be added as a LineCollection instead of individual lines. This significantly improves the performance of a stem plot. To remove this warning and switch to the new behaviour, set the \"use_line_collection\" keyword argument to True.\n"
          ],
          "name": "stderr"
        },
        {
          "output_type": "display_data",
          "data": {
            "image/png": "[encoded data removed]",
            "text/plain": [
              "<Figure size 432x288 with 1 Axes>"
            ]
          },
          "metadata": {
            "tags": [],
            "needs_background": "light"
          }
        },
        {
          "output_type": "display_data",
          "data": {
            "image/png": "[encoded data removed]",
            "text/plain": [
              "<Figure size 432x288 with 1 Axes>"
            ]
          },
          "metadata": {
            "tags": [],
            "needs_background": "light"
          }
        }
      ]
    },
    {
      "cell_type": "code",
      "metadata": {
        "id": "rZKYxU7GDfZE"
      },
      "source": [
        "threshold = 0.005\n"
      ],
      "execution_count": null,
      "outputs": []
    },
    {
      "cell_type": "code",
      "metadata": {
        "id": "ANrIR0UMFjhX"
      },
      "source": [],
      "execution_count": null,
      "outputs": []
    },
    {
      "cell_type": "code",
      "metadata": {
        "id": "_iQAleDSDmoZ"
      },
      "source": [
        "important_features = model.theta > threshold"
      ],
      "execution_count": null,
      "outputs": []
    },
    {
      "cell_type": "code",
      "metadata": {
        "id": "_LeezRvRDBV_"
      },
      "source": [
        "\n",
        "# model.dataset.train_inputs = model.dataset.train_inputs[:, important_features[:-1]]\n",
        "\n",
        "model.dataset.test_inputs = model.dataset.test_inputs[:, important_features[:-1]]"
      ],
      "execution_count": null,
      "outputs": []
    },
    {
      "cell_type": "code",
      "metadata": {
        "id": "POT6VGPXEJAy"
      },
      "source": [
        "model.theta = np.random.randn(model.dataset.train_inputs.shape[1]+1)"
      ],
      "execution_count": null,
      "outputs": []
    },
    {
      "cell_type": "code",
      "metadata": {
        "colab": {
          "base_uri": "https://localhost:8080/"
        },
        "id": "rsxu_mk8Ebir",
        "outputId": "00780f17-a006-4996-c528-393e480b6c2f"
      },
      "source": [
        "model.theta.shape"
      ],
      "execution_count": null,
      "outputs": [
        {
          "output_type": "execute_result",
          "data": {
            "text/plain": [
              "(77,)"
            ]
          },
          "metadata": {
            "tags": []
          },
          "execution_count": 144
        }
      ]
    },
    {
      "cell_type": "code",
      "metadata": {
        "colab": {
          "base_uri": "https://localhost:8080/"
        },
        "id": "v0bYjDgyEvxZ",
        "outputId": "5454dd3a-6890-4311-fbbc-b10406af12ff"
      },
      "source": [
        "\n",
        "model.dataset.train_inputs.shape"
      ],
      "execution_count": null,
      "outputs": [
        {
          "output_type": "execute_result",
          "data": {
            "text/plain": [
              "(610, 76)"
            ]
          },
          "metadata": {
            "tags": []
          },
          "execution_count": 145
        }
      ]
    },
    {
      "cell_type": "code",
      "metadata": {
        "colab": {
          "base_uri": "https://localhost:8080/",
          "height": 752
        },
        "id": "2q0Lulu8EejL",
        "outputId": "499298eb-4b38-4a4b-95b1-cc079dc30c87"
      },
      "source": [
        "model.train()"
      ],
      "execution_count": null,
      "outputs": [
        {
          "output_type": "stream",
          "text": [
            "Epoch: 0 train - loss: 7194.341822000705\n",
            "Epoch: 1000 train - loss: 429.4487229538736\n",
            "Epoch: 2000 train - loss: 421.43830924431796\n",
            "Epoch: 3000 train - loss: 418.6646538765128\n",
            "Epoch: 4000 train - loss: 417.3690383215454\n",
            "Epoch: 5000 train - loss: 416.26043815564134\n",
            "Epoch: 6000 train - loss: 414.76204777744834\n",
            "Epoch: 7000 train - loss: 413.82732469198845\n",
            "Epoch: 8000 train - loss: 413.064027810425\n",
            "Epoch: 9000 train - loss: 412.43329451115017\n"
          ],
          "name": "stdout"
        },
        {
          "output_type": "stream",
          "text": [
            "/usr/local/lib/python3.7/dist-packages/ipykernel_launcher.py:26: UserWarning: In Matplotlib 3.3 individual lines on a stem plot will be added as a LineCollection instead of individual lines. This significantly improves the performance of a stem plot. To remove this warning and switch to the new behaviour, set the \"use_line_collection\" keyword argument to True.\n"
          ],
          "name": "stderr"
        },
        {
          "output_type": "display_data",
          "data": {
            "image/png": "[encoded data removed]",
            "text/plain": [
              "<Figure size 432x288 with 1 Axes>"
            ]
          },
          "metadata": {
            "tags": [],
            "needs_background": "light"
          }
        },
        {
          "output_type": "display_data",
          "data": {
            "image/png": "[encoded data removed]",
            "text/plain": [
              "<Figure size 432x288 with 1 Axes>"
            ]
          },
          "metadata": {
            "tags": [],
            "needs_background": "light"
          }
        }
      ]
    },
    {
      "cell_type": "code",
      "metadata": {
        "id": "COZbeXsZEsLy"
      },
      "source": [],
      "execution_count": null,
      "outputs": []
    }
  ]
}