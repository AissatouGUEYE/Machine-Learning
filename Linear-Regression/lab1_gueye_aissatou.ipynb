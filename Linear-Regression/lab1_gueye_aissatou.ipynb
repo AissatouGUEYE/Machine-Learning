{
  "nbformat": 4,
  "nbformat_minor": 0,
  "metadata": {
    "anaconda-cloud": {},
    "kernelspec": {
      "display_name": "Python 3",
      "language": "python",
      "name": "python3"
    },
    "language_info": {
      "codemirror_mode": {
        "name": "ipython",
        "version": 3
      },
      "file_extension": ".py",
      "mimetype": "text/x-python",
      "name": "python",
      "nbconvert_exporter": "python",
      "pygments_lexer": "ipython3",
      "version": "3.5.4"
    },
    "colab": {
      "provenance": []
    }
  },
  "cells": [
    {
      "cell_type": "markdown",
      "metadata": {
        "id": "cSYJLhBpdHPq"
      },
      "source": [
        "##### This Notebook has been adapted from a course gave by Robert Gower at AMMI"
      ]
    },
    {
      "cell_type": "markdown",
      "metadata": {
        "id": "48jQpe56UxO8"
      },
      "source": [
        "# First order methods on regression models\n",
        "\n",
        "    Lab 1 : Optimization for Machine Learning, AMMI Master's in Machine Intelligence\n",
        "\n",
        "## Aim\n",
        "\n",
        "The aim of this material is to code \n",
        "- proximal gradient descent (ISTA)\n",
        "- accelerated gradient descent (FISTA) \n",
        "\n",
        "for \n",
        "- linear regression\n",
        "- logistic regression \n",
        "\n",
        "models.\n",
        "\n",
        "The proximal operators we will use are the \n",
        "- ridge penalization\n",
        "- L1 penalization\n",
        "\n",
        "## VERY IMPORTANT\n",
        "\n",
        "\n",
        "- **Each** student must send their jupyter notebook solutions **before the 5th of July at 23:59**  to **tngoupeyou@aimsammi.org**\n",
        "- The **name of the file must be** constructed as in the next cell\n",
        "\n",
        "### How to construct the name of your file"
      ]
    },
    {
      "cell_type": "code",
      "metadata": {
        "scrolled": true,
        "id": "FhBNr3wHUxO_",
        "colab": {
          "base_uri": "https://localhost:8080/"
        },
        "outputId": "102c0330-4191-4e6f-e3b1-3608f0cc73de"
      },
      "source": [
        "# Change here using YOUR first and last names\n",
        "fn1 = \"aissatou\"\n",
        "ln1 = \"gueye\"\n",
        "\n",
        "filename = \"_\".join(map(lambda s: s.strip().lower(), \n",
        "                        [\"lab1\", ln1, fn1])) + \".ipynb\"\n",
        "print(filename)"
      ],
      "execution_count": null,
      "outputs": [
        {
          "output_type": "stream",
          "text": [
            "lab1_gueye_aissatou.ipynb\n"
          ],
          "name": "stdout"
        }
      ]
    },
    {
      "cell_type": "code",
      "metadata": {
        "collapsed": true,
        "scrolled": false,
        "id": "_05rNYYUUxPA"
      },
      "source": [
        "## to embed figures in the notebook\n",
        "%matplotlib inline"
      ],
      "execution_count": null,
      "outputs": []
    },
    {
      "cell_type": "markdown",
      "metadata": {
        "id": "8f_sZ-sYUxPA"
      },
      "source": [
        "## Part 0 : Introduction\n",
        "\n",
        "We'll start by generating sparse vectors and simulating data\n",
        "\n",
        "### Getting sparse coefficients"
      ]
    },
    {
      "cell_type": "code",
      "metadata": {
        "collapsed": true,
        "scrolled": false,
        "id": "ljDcHJ4VUxPB"
      },
      "source": [
        "import numpy as np\n",
        "import matplotlib.pyplot as plt\n",
        "\n",
        "np.set_printoptions(precision=2)  # to have simpler print outputs with numpy"
      ],
      "execution_count": null,
      "outputs": []
    },
    {
      "cell_type": "code",
      "metadata": {
        "scrolled": true,
        "id": "EcIFzE3WUxPB",
        "colab": {
          "base_uri": "https://localhost:8080/",
          "height": 352
        },
        "outputId": "5756c8d0-05bf-43fa-e2e7-b2f39db24be9"
      },
      "source": [
        "n_features = 50\n",
        "n_samples = 1000\n",
        "idx = np.arange(n_features)\n",
        "coefs = ((-1) ** idx) * np.exp(-idx / 10.)\n",
        "coefs[20:] = 0.\n",
        "plt.stem(coefs)\n",
        "plt.title(\"Parameters / Coefficients\")"
      ],
      "execution_count": null,
      "outputs": [
        {
          "output_type": "stream",
          "text": [
            "/usr/local/lib/python3.7/dist-packages/ipykernel_launcher.py:6: UserWarning: In Matplotlib 3.3 individual lines on a stem plot will be added as a LineCollection instead of individual lines. This significantly improves the performance of a stem plot. To remove this warning and switch to the new behaviour, set the \"use_line_collection\" keyword argument to True.\n",
            "  \n"
          ],
          "name": "stderr"
        },
        {
          "output_type": "execute_result",
          "data": {
            "text/plain": [
              "Text(0.5, 1.0, 'Parameters / Coefficients')"
            ]
          },
          "metadata": {
            "tags": []
          },
          "execution_count": 6
        },
        {
          "output_type": "display_data",
          "data": {
            "image/png": "[encoded data removed]",
            "text/plain": [
              "<Figure size 432x288 with 1 Axes>"
            ]
          },
          "metadata": {
            "tags": [],
            "needs_background": "light"
          }
        }
      ]
    },
    {
      "cell_type": "markdown",
      "metadata": {
        "id": "2eM92fB5UxPC"
      },
      "source": [
        "### Functions for the simulation of the models"
      ]
    },
    {
      "cell_type": "code",
      "metadata": {
        "collapsed": true,
        "scrolled": false,
        "id": "iVGSo_VaUxPC"
      },
      "source": [
        "from numpy.random import multivariate_normal\n",
        "from scipy.linalg.special_matrices import toeplitz\n",
        "from numpy.random import randn\n",
        "\n",
        "\n",
        "def simu_linreg(coefs, n_samples=1000, corr=0.5):\n",
        "    \"\"\"Simulation of a linear regression model\n",
        "    \n",
        "    Parameters\n",
        "    ----------\n",
        "    coefs : `numpy.array`, shape=(n_features,)\n",
        "        Coefficients of the model\n",
        "    \n",
        "    n_samples : `int`, default=1000\n",
        "        Number of samples to simulate\n",
        "    \n",
        "    corr : `float`, default=0.5\n",
        "        Correlation of the features\n",
        "\n",
        "    Returns\n",
        "    -------\n",
        "    A : `numpy.ndarray`, shape=(n_samples, n_features)\n",
        "        Simulated features matrix. It samples of a centered Gaussian \n",
        "        vector with covariance given by the Toeplitz matrix\n",
        "    \n",
        "    b : `numpy.array`, shape=(n_samples,)\n",
        "        Simulated labels\n",
        "    \"\"\"\n",
        "    # Construction of a covariance matrix\n",
        "    cov = toeplitz(corr ** np.arange(0, n_features))\n",
        "    # Simulation of features\n",
        "    A = multivariate_normal(np.zeros(n_features), cov, size=n_samples)\n",
        "    # Simulation of the labels\n",
        "    b = A.dot(coefs) + randn(n_samples)\n",
        "    return A, b\n",
        "\n",
        "\n",
        "def sigmoid(t):\n",
        "    \"\"\"Sigmoid function\"\"\"\n",
        "    return 1. / (1. + np.exp(-t))\n",
        "\n",
        "\n",
        "def simu_logreg(coefs, n_samples=1000, corr=0.5):\n",
        "    \"\"\"Simulation of a logistic regression model\n",
        "    \n",
        "    Parameters\n",
        "    ----------\n",
        "    coefs : `numpy.array`, shape=(n_features,)\n",
        "        Coefficients of the model\n",
        "    \n",
        "    n_samples : `int`, default=1000\n",
        "        Number of samples to simulate\n",
        "    \n",
        "    corr : `float`, default=0.5\n",
        "        Correlation of the features\n",
        "\n",
        "    Returns\n",
        "    -------\n",
        "    A : `numpy.ndarray`, shape=(n_samples, n_features)\n",
        "        Simulated features matrix. It samples of a centered Gaussian \n",
        "        vector with covariance given by the Toeplitz matrix\n",
        "    \n",
        "    b : `numpy.array`, shape=(n_samples,)\n",
        "        Simulated labels\n",
        "    \"\"\"\n",
        "    cov = toeplitz(corr ** np.arange(0, n_features))\n",
        "    A = multivariate_normal(np.zeros(n_features), cov, size=n_samples)\n",
        "    p = sigmoid(A.dot(coefs))\n",
        "    b = np.random.binomial(1, p, size=n_samples)\n",
        "    b[:] = 2 * b - 1\n",
        "    return A, b"
      ],
      "execution_count": null,
      "outputs": []
    },
    {
      "cell_type": "markdown",
      "metadata": {
        "id": "v2G-lZJNUxPD"
      },
      "source": [
        "## Part 1 : Proximal operators"
      ]
    },
    {
      "cell_type": "markdown",
      "metadata": {
        "id": "Vvv2foKjUxPD"
      },
      "source": [
        "We remind that the proximal operator of a fonction $g$ is given by:\n",
        "\n",
        "$$\n",
        "\\text{prox}_g(y, t) = \\arg\\min_x \\Big\\{ \\frac 12 \\|x - y\\|_2^2 + t g(x) \\Big\\}.\n",
        "$$\n",
        "\n",
        "where $t \\geq 0$ is a non-negative number.\n",
        "We have in mind to use the following cases\n",
        "\n",
        "- Ridge penalization, where $g(x) = \\frac{s}{2} \\|x\\|_2^2$\n",
        "- Lasso penalization, where $g(x) = s \\|x\\|_1$\n",
        "\n",
        "where $s \\geq 0$ is a regularization parameter."
      ]
    },
    {
      "cell_type": "markdown",
      "metadata": {
        "id": "sPrL2yFQUxPD"
      },
      "source": [
        "## Questions\n",
        "\n",
        "- Code a function that computes $g(x)$ in both cases and $\\text{prox}_g(x)$ for ridge and  lasso penalization (use the slides of the first course to get the formulas), using the prototypes given below\n",
        "- Visualize the functions applied element wise by the proximity operators of the Ridge and Lasso "
      ]
    },
    {
      "cell_type": "code",
      "metadata": {
        "collapsed": true,
        "scrolled": false,
        "id": "dIyhsg8xUxPE"
      },
      "source": [
        "def prox_lasso(x, s):\n",
        "    \"\"\"Proximal operator for the Lasso at x with strength t\"\"\"   \n",
        "    return np.sign(x)*np.maximum(np.abs(x)-s,0)\n",
        "\n",
        "def lasso(x, s):\n",
        "    \"\"\"Value of the Lasso penalization at x with strength t\"\"\"\n",
        "    return s*norm((x), ord=1)\n",
        "\n",
        "def prox_ridge(x, s, t=1.):\n",
        "    \"\"\"Proximal operator for the ridge at x with strength t\"\"\"    \n",
        "    return x/(1.+s*t)\n",
        "\n",
        "def ridge(x, s):\n",
        "    \"\"\"Value of the ridge penalization at x with strength t\"\"\"\n",
        "    return (s/2.) * (np.linalg.norm((x), ord=2) ** 2)"
      ],
      "execution_count": null,
      "outputs": []
    },
    {
      "cell_type": "markdown",
      "metadata": {
        "id": "MDtB16csUxPE"
      },
      "source": [
        "## Visualization\n",
        "\n",
        "We are now going to visualize the effect of the proximity operators on coefficients."
      ]
    },
    {
      "cell_type": "code",
      "metadata": {
        "scrolled": true,
        "id": "Gj0FtY4nUxPE",
        "colab": {
          "base_uri": "https://localhost:8080/",
          "height": 422
        },
        "outputId": "00e7f9a2-663f-424b-ad78-7aa0146dfad4"
      },
      "source": [
        "x = randn(50)\n",
        "\n",
        "l_l1 = 1.\n",
        "l_l2 = 0.5\n",
        "\n",
        "plt.figure(figsize=(15.0, 4.0))\n",
        "plt.subplot(1, 3, 1)\n",
        "plt.stem(x)\n",
        "plt.title(\"Original parameter\", fontsize=16)\n",
        "plt.ylim([-2, 2])\n",
        "plt.subplot(1, 3, 2)\n",
        "plt.stem(prox_lasso(x, s=l_l1))\n",
        "plt.title(\"Proximal Lasso\", fontsize=16)\n",
        "plt.ylim([-2, 2])\n",
        "plt.subplot(1, 3, 3)\n",
        "plt.stem(prox_ridge(x, s=l_l2))\n",
        "plt.title(\"Proximal Ridge\", fontsize=16)\n",
        "plt.ylim([-2, 2])\n"
      ],
      "execution_count": null,
      "outputs": [
        {
          "output_type": "stream",
          "text": [
            "/usr/local/lib/python3.7/dist-packages/ipykernel_launcher.py:8: UserWarning: In Matplotlib 3.3 individual lines on a stem plot will be added as a LineCollection instead of individual lines. This significantly improves the performance of a stem plot. To remove this warning and switch to the new behaviour, set the \"use_line_collection\" keyword argument to True.\n",
            "  \n",
            "/usr/local/lib/python3.7/dist-packages/ipykernel_launcher.py:12: UserWarning: In Matplotlib 3.3 individual lines on a stem plot will be added as a LineCollection instead of individual lines. This significantly improves the performance of a stem plot. To remove this warning and switch to the new behaviour, set the \"use_line_collection\" keyword argument to True.\n",
            "  if sys.path[0] == '':\n",
            "/usr/local/lib/python3.7/dist-packages/ipykernel_launcher.py:16: UserWarning: In Matplotlib 3.3 individual lines on a stem plot will be added as a LineCollection instead of individual lines. This significantly improves the performance of a stem plot. To remove this warning and switch to the new behaviour, set the \"use_line_collection\" keyword argument to True.\n",
            "  app.launch_new_instance()\n"
          ],
          "name": "stderr"
        },
        {
          "output_type": "execute_result",
          "data": {
            "text/plain": [
              "(-2.0, 2.0)"
            ]
          },
          "metadata": {
            "tags": []
          },
          "execution_count": 17
        },
        {
          "output_type": "display_data",
          "data": {
            "image/png": "[encoded data removed]",
            "text/plain": [
              "<Figure size 1080x288 with 3 Axes>"
            ]
          },
          "metadata": {
            "tags": [],
            "needs_background": "light"
          }
        }
      ]
    },
    {
      "cell_type": "markdown",
      "metadata": {
        "id": "lCK7kvr8UxPF"
      },
      "source": [
        "## Question\n",
        "\n",
        "- Comment what you observe (1 or 2 sentences)."
      ]
    },
    {
      "cell_type": "markdown",
      "metadata": {
        "id": "YLkQSBmeUxPF"
      },
      "source": [
        "### Comments\n",
        " \n",
        "With the lasso regularization, the coefficients with absolute value under $t\\cdot s$ vanish since the proximal operator is such that $ \\text{sign}(x)(|x|-t\\cdot s)_{+} $, the non-zero coefficients decrease by the constant scalar $t\\cdot s$, we can see that the L1 norm induces sparsity.\n",
        "\n",
        "With a ridge regularization, the value of the coefficients is smaller but still positive, more precisely, the magnitude of the coefficients is shrinked by the same factor $\\frac{1}{1 + t\\cdot s}$.\n"
      ]
    },
    {
      "cell_type": "markdown",
      "metadata": {
        "id": "1dH_c0iCUxPF"
      },
      "source": [
        "## Part 2: Gradients\n",
        "\n",
        "The problems we want to minimize take the form:\n",
        "$$\n",
        "\\arg\\min_x f(x) + g(x)\n",
        "$$\n",
        "where $f$ is $L$-smooth and $g$ is prox-capable.\n",
        "\n",
        "We will consider below the following cases\n",
        "\n",
        "**Linear regression**, where \n",
        "$$\n",
        "f(x) = \\frac{1}{2n} \\sum_{i=1}^n (b_i - a_i^\\top x)^2 = \\frac{1}{2 n} \\| b - A x \\|_2^2,\n",
        "$$\n",
        "where $n$ is the sample size, $b = [b_1 \\cdots b_n]$ is the vector of labels and $A$ is the matrix of features.\n",
        "\n",
        "**Logistic regression**, where\n",
        "$$\n",
        "f(x) = \\frac{1}{n} \\sum_{i=1}^n \\log(1 + \\exp(-b_i a_i^\\top x)),\n",
        "$$\n",
        "where $n$ is the sample size, and where labels $b_i \\in \\{ -1, 1 \\}$ for all $i$.\n",
        "\n",
        "We need to be able to compute $f$ and its gradient"
      ]
    },
    {
      "cell_type": "markdown",
      "metadata": {
        "id": "WFP3qUSHUxPF"
      },
      "source": [
        "**Questions**:\n",
        "- Compute on paper the gradient $\\nabla f$ of $f$ for both cases (linear and logistic regression)\n",
        "- Code a function that computes $f$ and its gradient $\\nabla f$ in both cases, using the prototypes below.\n",
        "- Check that these functions are correct by numerically checking the gradient, using the function ``checkgrad`` from ``scipy.optimize``. Remark: use the functions `simu_linreg` and `simu_logreg` to simulate data according to the right model"
      ]
    },
    {
      "cell_type": "code",
      "metadata": {
        "collapsed": true,
        "scrolled": true,
        "id": "VBjabyn5UxPF"
      },
      "source": [
        "A,b = simu_linreg(coefs)\n",
        "def loss_linreg(x, A=A,b=b):\n",
        "    \"\"\"Least-squares loss\"\"\"\n",
        "    return 1/(2*len(b)) * np.linalg.norm(b-np.dot(A,x), ord=2)**2\n",
        "\n",
        "def grad_linreg(x,A=A,b=b):\n",
        "    \"\"\"Least-squares gradient\"\"\"\n",
        "    return -1/(len(b)) * np.dot(A.T, b - np.dot(A,x))\n",
        "\n",
        "def loss_logreg(x, A=A, b=b):\n",
        "    \"\"\"Logistic loss\"\"\"\n",
        "    return 1/(len(b)) * np.log(1 + np.exp(-np.multiply(b, A.dot(x)))).sum()\n",
        "    \n",
        "def grad_logreg(x, A=A, b=b):\n",
        "    \"\"\"Logistic gradient\"\"\"\n",
        "    return sum((-b[i]*np.transpose(A[i, :]) * np.exp(-b[i]*np.dot(np.transpose(A[i, :]), x))) / (len(b) * (1 + np.exp(-b[i]*np.dot(np.transpose(A[i, :]), x)))) for i in range(len(b)))"
      ],
      "execution_count": null,
      "outputs": []
    },
    {
      "cell_type": "code",
      "metadata": {
        "scrolled": true,
        "id": "1vMQuVSpUxPG",
        "colab": {
          "base_uri": "https://localhost:8080/"
        },
        "outputId": "9f0b6356-c799-4164-a80b-fb9dd9e7a988"
      },
      "source": [
        "from scipy.optimize import check_grad\n",
        "A,b = simu_linreg(coefs)\n",
        "print(\"Check grad_linreg:\", check_grad(loss_linreg, grad_linreg, x0=randn(A.shape[1])))\n",
        "A,b = simu_logreg(coefs)\n",
        "print(\"Check grad_logreg:\", check_grad(loss_logreg, grad_logreg, x0=randn(A.shape[1])))"
      ],
      "execution_count": null,
      "outputs": [
        {
          "output_type": "stream",
          "text": [
            "Check grad_linreg: 2.175833972604262e-06\n",
            "Check grad_logreg: 1.320782583949301e-07\n"
          ],
          "name": "stdout"
        }
      ]
    },
    {
      "cell_type": "markdown",
      "metadata": {
        "id": "PAK7gX34UxPG"
      },
      "source": [
        "The above \"grad\" functions seem to be correct : the check_grad output is small.  "
      ]
    },
    {
      "cell_type": "markdown",
      "metadata": {
        "id": "Iffy0JI0UxPG"
      },
      "source": [
        "## Part 3: Solvers"
      ]
    },
    {
      "cell_type": "markdown",
      "metadata": {
        "id": "ctDrHW9gUxPG"
      },
      "source": [
        "We know have a function to compute $f$, $\\nabla f$ and $g$ and $\\text{prox}_g$. \n",
        "\n",
        "We want now to code the Ista and Fista solvers to minimize\n",
        "\n",
        "$$\n",
        "\\arg\\min_x f(x) + g(x)\n",
        "$$\n",
        "\n",
        "<div class=\"alert alert-success\">\n",
        "    <b>Questions</b>:\n",
        "     <ul>\n",
        "      <li>Implement functions that compute the Lipschitz constants for linear and \n",
        "  logistic regression losses. Note that the operator norm of a matrix can \n",
        "  be computed using the function <a href=\"https://docs.scipy.org/doc/numpy/reference/generated/numpy.linalg.norm.html\">numpy.linalg.norm</a> (read the documentation\n",
        "  of the function)</li>\n",
        "      <li>Finish the functions `ista` below that implements the \n",
        "  ISTA (Proximal Gradient Descent) algorithm</li>\n",
        "    <li> BONUS QUESTION:  Implement FISTA (Accelerated Proximal \n",
        "  Gradient Descent) algorithm as described at the bottom\n",
        "    </ul>\n",
        "</div>"
      ]
    },
    {
      "cell_type": "code",
      "metadata": {
        "collapsed": true,
        "scrolled": false,
        "id": "h6GlfMVnUxPG"
      },
      "source": [
        "def lip_linreg(A):\n",
        "    \"\"\"Lipschitz constant for linear squares loss\"\"\"    \n",
        "    return 1/(len(b)) * np.linalg.norm(np.dot(A.T,A), ord=2)\n",
        "\n",
        "def lip_logreg(A):\n",
        "    \"\"\"Lipschitz constant for logistic loss\"\"\"    \n",
        "    return 1/(4. * len(b)) * np.linalg.norm(A, ord=2)**2\n",
        "\n",
        "def ista(x0, f, grad_f, g, prox_g, step, s=0., n_iter=50,\n",
        "        x_true=coefs, verbose=True):\n",
        "  \"\"\"Proximal gradient descent algorithm\"\"\"\n",
        "  x = x0.copy()\n",
        "  x_new = x0.copy()\n",
        "  n_samples, n_features = A.shape\n",
        "\n",
        "  # estimation error history\n",
        "  errors = []\n",
        "  # objective history\n",
        "  objectives = []\n",
        "  # Current estimation error\n",
        "  err = norm(x - x_true) / norm(x_true)\n",
        "  errors.append(err)\n",
        "  # Current objective\n",
        "  obj = f(x) + g(x, s)\n",
        "  objectives.append(obj)\n",
        "  if verbose:\n",
        "      print(\"Lauching ISTA solver...\")\n",
        "      print(' | '.join([name.center(8) for name in [\"it\", \"obj\", \"err\"]]))\n",
        "  for k in range(n_iter + 1):\n",
        "\n",
        "      x = prox_g(x - step*grad_f(x), s, step)\n",
        "  \n",
        "      obj = f(x) + g(x, s)\n",
        "      err = norm(x - x_true) / norm(x_true)\n",
        "      errors.append(err)\n",
        "      objectives.append(obj)\n",
        "      if k % 10 == 0 and verbose:\n",
        "          print(' | '.join([(\"%d\" % k).rjust(8), \n",
        "                            (\"%.2e\" % obj).rjust(8), \n",
        "                            (\"%.2e\" % err).rjust(8)]))\n",
        "  return x, objectives, errors"
      ],
      "execution_count": null,
      "outputs": []
    },
    {
      "cell_type": "markdown",
      "metadata": {
        "id": "0vSGelUhaN2y"
      },
      "source": [
        "Try and implement the FISTA algorithm (detailed in maths below)"
      ]
    },
    {
      "cell_type": "markdown",
      "metadata": {
        "id": "DfdtBOtbUxPG"
      },
      "source": [
        "FISTA Algorithm:\n",
        "$$\\begin{array}{l}\n",
        "\\mbox{Set } w^1=0=z^1, \\beta^1 =1\\\\\n",
        "\\mbox{for }t=1,2,3, \\ldots, T \\quad  \\\\\n",
        "\\qquad \\displaystyle w^{t+1} = \\mbox{prox}_{\\left. \\lambda R \\right/ \\mathcal{L}}\\left( z^t - \\frac{1}{\\mathcal{L}} \\nabla L(z^t)\\right) \\\\\n",
        "\\qquad \\displaystyle \\beta^{t+1} = \\frac{1+\\sqrt{1+4(\\beta^t)^2}}{2}\\\\\n",
        "\\qquad \\displaystyle  z^{t+1} = w^{t+1} + \\frac{\\beta^t -1}{\\beta^{t+1}} (w^{t+1} -w^{t})\\\\\n",
        "\\mbox{Output } w^{T+1}\n",
        "\\end{array}$$"
      ]
    },
    {
      "cell_type": "code",
      "metadata": {
        "collapsed": true,
        "scrolled": false,
        "id": "u6gkMFIBUxPH"
      },
      "source": [
        "def fista(x0, f, grad_f, g, prox_g, step, s=0., n_iter=50,\n",
        "         x_true=coefs, verbose=True):\n",
        "    \"\"\"Accelerated Proximal gradient descent algorithm\n",
        "    \"\"\"\n",
        "    x = x0.copy()\n",
        "    x_new = x0.copy()\n",
        "    # An extra variable is required for FISTA\n",
        "    z = x0.copy()\n",
        "    n_samples, n_features = A.shape\n",
        "    # estimation error history\n",
        "    errors = []\n",
        "    # objective history\n",
        "    objectives = []\n",
        "    # Current estimation error\n",
        "    err = norm(x - x_true) / norm(x_true)\n",
        "    errors.append(err)\n",
        "    # Current objective\n",
        "    obj = f(x) + g(x, s)\n",
        "    objectives.append(obj)\n",
        "    t = 1.\n",
        "    t_new = 1.    \n",
        "    if verbose:\n",
        "        print(\"Lauching FISTA solver...\")\n",
        "        print(' | '.join([name.center(8) for name in [\"it\", \"obj\", \"err\"]]))\n",
        "        \n",
        "    for k in range(n_iter + 1):\n",
        "    \n",
        "        x_new = prox_g(z - step*grad_f(z),s, step)\n",
        "        t_new = (1/2)*(1 + np.sqrt(1 + 4*(t**2)))\n",
        "        z_new = x_new + ((t-1)/t_new)*(x_new - x)\n",
        "        x, z, t = x_new, z_new, t_new\n",
        "        \n",
        "        obj = f(x) + g(x, s)\n",
        "        err = norm(x - x_true) / norm(x_true)\n",
        "        errors.append(err)\n",
        "        objectives.append(obj)\n",
        "        if k % 10 == 0 and verbose:\n",
        "            print(' | '.join([(\"%d\" % k).rjust(8), \n",
        "                              (\"%.2e\" % obj).rjust(8), \n",
        "                              (\"%.2e\" % err).rjust(8)]))\n",
        "    return x, np.array(objectives), np.array(errors)"
      ],
      "execution_count": null,
      "outputs": []
    },
    {
      "cell_type": "markdown",
      "metadata": {
        "id": "DAIGgi_jUxPH"
      },
      "source": [
        "## Algorithms comparison and numerical experiments"
      ]
    },
    {
      "cell_type": "code",
      "metadata": {
        "scrolled": true,
        "id": "6-PU5cOyUxPH",
        "colab": {
          "base_uri": "https://localhost:8080/"
        },
        "outputId": "f44321c6-aab5-4d7d-ee8f-602fe87bc306"
      },
      "source": [
        "# Some definitions before launching the algorithms\n",
        "x0 = np.zeros(n_features)\n",
        "n_iter = 40\n",
        "s = 1e-2\n",
        "s"
      ],
      "execution_count": null,
      "outputs": [
        {
          "output_type": "execute_result",
          "data": {
            "text/plain": [
              "0.01"
            ]
          },
          "metadata": {
            "tags": []
          },
          "execution_count": 20
        }
      ]
    },
    {
      "cell_type": "code",
      "metadata": {
        "scrolled": true,
        "id": "4Wxh5QQBUxPH",
        "colab": {
          "base_uri": "https://localhost:8080/"
        },
        "outputId": "14e1f875-b708-40cb-c738-0b4928aa4049"
      },
      "source": [
        "# test:\n",
        "norm = np.linalg.norm \n",
        "A, b = simu_linreg(coefs, n_samples=1000, corr=0.5)\n",
        "step=1/lip_linreg(A)\n",
        "\n",
        "F= fista(x0, loss_linreg, grad_linreg, ridge, prox_ridge, step, s=0., n_iter=50,x_true=coefs, verbose=True)\n",
        "I= ista(x0, loss_linreg, grad_linreg, ridge, prox_ridge, step, s=0., n_iter=50,x_true=coefs, verbose=True)"
      ],
      "execution_count": null,
      "outputs": [
        {
          "output_type": "stream",
          "text": [
            "Lauching FISTA solver...\n",
            "   it    |   obj    |   err   \n",
            "       0 | 1.33e+00 | 8.81e-01\n",
            "      10 | 4.86e-01 | 1.18e-01\n",
            "      20 | 4.85e-01 | 1.27e-01\n",
            "      30 | 4.85e-01 | 1.20e-01\n",
            "      40 | 4.85e-01 | 1.23e-01\n",
            "      50 | 4.85e-01 | 1.22e-01\n",
            "Lauching ISTA solver...\n",
            "   it    |   obj    |   err   \n",
            "       0 | 1.33e+00 | 8.81e-01\n",
            "      10 | 5.77e-01 | 2.86e-01\n",
            "      20 | 4.97e-01 | 1.21e-01\n",
            "      30 | 4.86e-01 | 1.06e-01\n",
            "      40 | 4.85e-01 | 1.14e-01\n",
            "      50 | 4.85e-01 | 1.19e-01\n"
          ],
          "name": "stdout"
        }
      ]
    },
    {
      "cell_type": "markdown",
      "metadata": {
        "id": "7jMVc7wAUxPH"
      },
      "source": [
        "**Questions**\n",
        "\n",
        "- Compute a precise minimum and a precise minimizer of the linear regression with ridge \n",
        "  penalization problem using the parameters give above. This can be done by using FISTA with \n",
        "  1000 iterations.\n",
        "- Compare the convergences of ISTA and FISTA, in terms of distance to the minimum and \n",
        "  distance to the minimizer. Do your plots using a logarithmic scale of the y-axis."
      ]
    },
    {
      "cell_type": "code",
      "metadata": {
        "scrolled": true,
        "id": "tqw6B-z7UxPH",
        "colab": {
          "base_uri": "https://localhost:8080/"
        },
        "outputId": "c8ebe5ab-410c-44e6-da6d-8ff64683f0bc"
      },
      "source": [
        "# Minimum and minimizer of the linear regression with ridge penalization\n",
        "A, b = simu_linreg(coefs, n_samples=1000, corr=0.5)\n",
        "step=1/lip_linreg(A)\n",
        "X, obj, err = fista(x0, loss_linreg, grad_linreg, ridge, prox_ridge, step, s, n_iter=1000,x_true=coefs, verbose=True)\n",
        "minimum = obj[-1]\n",
        "minimizer = X[-1]\n",
        "print(\"minimum:\", minimum)\n",
        "print(\"minimizer:\", minimizer)"
      ],
      "execution_count": null,
      "outputs": [
        {
          "output_type": "stream",
          "text": [
            "Lauching FISTA solver...\n",
            "   it    |   obj    |   err   \n",
            "       0 | 1.32e+00 | 8.75e-01\n",
            "      10 | 5.14e-01 | 1.13e-01\n",
            "      20 | 5.14e-01 | 1.11e-01\n",
            "      30 | 5.14e-01 | 1.10e-01\n",
            "      40 | 5.14e-01 | 1.10e-01\n",
            "      50 | 5.14e-01 | 1.10e-01\n",
            "      60 | 5.14e-01 | 1.10e-01\n",
            "      70 | 5.14e-01 | 1.10e-01\n",
            "      80 | 5.14e-01 | 1.10e-01\n",
            "      90 | 5.14e-01 | 1.10e-01\n",
            "     100 | 5.14e-01 | 1.10e-01\n",
            "     110 | 5.14e-01 | 1.10e-01\n",
            "     120 | 5.14e-01 | 1.10e-01\n",
            "     130 | 5.14e-01 | 1.10e-01\n",
            "     140 | 5.14e-01 | 1.10e-01\n",
            "     150 | 5.14e-01 | 1.10e-01\n",
            "     160 | 5.14e-01 | 1.10e-01\n",
            "     170 | 5.14e-01 | 1.10e-01\n",
            "     180 | 5.14e-01 | 1.10e-01\n",
            "     190 | 5.14e-01 | 1.10e-01\n",
            "     200 | 5.14e-01 | 1.10e-01\n",
            "     210 | 5.14e-01 | 1.10e-01\n",
            "     220 | 5.14e-01 | 1.10e-01\n",
            "     230 | 5.14e-01 | 1.10e-01\n",
            "     240 | 5.14e-01 | 1.10e-01\n",
            "     250 | 5.14e-01 | 1.10e-01\n",
            "     260 | 5.14e-01 | 1.10e-01\n",
            "     270 | 5.14e-01 | 1.10e-01\n",
            "     280 | 5.14e-01 | 1.10e-01\n",
            "     290 | 5.14e-01 | 1.10e-01\n",
            "     300 | 5.14e-01 | 1.10e-01\n",
            "     310 | 5.14e-01 | 1.10e-01\n",
            "     320 | 5.14e-01 | 1.10e-01\n",
            "     330 | 5.14e-01 | 1.10e-01\n",
            "     340 | 5.14e-01 | 1.10e-01\n",
            "     350 | 5.14e-01 | 1.10e-01\n",
            "     360 | 5.14e-01 | 1.10e-01\n",
            "     370 | 5.14e-01 | 1.10e-01\n",
            "     380 | 5.14e-01 | 1.10e-01\n",
            "     390 | 5.14e-01 | 1.10e-01\n",
            "     400 | 5.14e-01 | 1.10e-01\n",
            "     410 | 5.14e-01 | 1.10e-01\n",
            "     420 | 5.14e-01 | 1.10e-01\n",
            "     430 | 5.14e-01 | 1.10e-01\n",
            "     440 | 5.14e-01 | 1.10e-01\n",
            "     450 | 5.14e-01 | 1.10e-01\n",
            "     460 | 5.14e-01 | 1.10e-01\n",
            "     470 | 5.14e-01 | 1.10e-01\n",
            "     480 | 5.14e-01 | 1.10e-01\n",
            "     490 | 5.14e-01 | 1.10e-01\n",
            "     500 | 5.14e-01 | 1.10e-01\n",
            "     510 | 5.14e-01 | 1.10e-01\n",
            "     520 | 5.14e-01 | 1.10e-01\n",
            "     530 | 5.14e-01 | 1.10e-01\n",
            "     540 | 5.14e-01 | 1.10e-01\n",
            "     550 | 5.14e-01 | 1.10e-01\n",
            "     560 | 5.14e-01 | 1.10e-01\n",
            "     570 | 5.14e-01 | 1.10e-01\n",
            "     580 | 5.14e-01 | 1.10e-01\n",
            "     590 | 5.14e-01 | 1.10e-01\n",
            "     600 | 5.14e-01 | 1.10e-01\n",
            "     610 | 5.14e-01 | 1.10e-01\n",
            "     620 | 5.14e-01 | 1.10e-01\n",
            "     630 | 5.14e-01 | 1.10e-01\n",
            "     640 | 5.14e-01 | 1.10e-01\n",
            "     650 | 5.14e-01 | 1.10e-01\n",
            "     660 | 5.14e-01 | 1.10e-01\n",
            "     670 | 5.14e-01 | 1.10e-01\n",
            "     680 | 5.14e-01 | 1.10e-01\n",
            "     690 | 5.14e-01 | 1.10e-01\n",
            "     700 | 5.14e-01 | 1.10e-01\n",
            "     710 | 5.14e-01 | 1.10e-01\n",
            "     720 | 5.14e-01 | 1.10e-01\n",
            "     730 | 5.14e-01 | 1.10e-01\n",
            "     740 | 5.14e-01 | 1.10e-01\n",
            "     750 | 5.14e-01 | 1.10e-01\n",
            "     760 | 5.14e-01 | 1.10e-01\n",
            "     770 | 5.14e-01 | 1.10e-01\n",
            "     780 | 5.14e-01 | 1.10e-01\n",
            "     790 | 5.14e-01 | 1.10e-01\n",
            "     800 | 5.14e-01 | 1.10e-01\n",
            "     810 | 5.14e-01 | 1.10e-01\n",
            "     820 | 5.14e-01 | 1.10e-01\n",
            "     830 | 5.14e-01 | 1.10e-01\n",
            "     840 | 5.14e-01 | 1.10e-01\n",
            "     850 | 5.14e-01 | 1.10e-01\n",
            "     860 | 5.14e-01 | 1.10e-01\n",
            "     870 | 5.14e-01 | 1.10e-01\n",
            "     880 | 5.14e-01 | 1.10e-01\n",
            "     890 | 5.14e-01 | 1.10e-01\n",
            "     900 | 5.14e-01 | 1.10e-01\n",
            "     910 | 5.14e-01 | 1.10e-01\n",
            "     920 | 5.14e-01 | 1.10e-01\n",
            "     930 | 5.14e-01 | 1.10e-01\n",
            "     940 | 5.14e-01 | 1.10e-01\n",
            "     950 | 5.14e-01 | 1.10e-01\n",
            "     960 | 5.14e-01 | 1.10e-01\n",
            "     970 | 5.14e-01 | 1.10e-01\n",
            "     980 | 5.14e-01 | 1.10e-01\n",
            "     990 | 5.14e-01 | 1.10e-01\n",
            "    1000 | 5.14e-01 | 1.10e-01\n",
            "minimum: 0.513612837558265\n",
            "minimizer: -0.0772622978517653\n"
          ],
          "name": "stdout"
        }
      ]
    },
    {
      "cell_type": "markdown",
      "metadata": {
        "id": "CBUl2wPZUxPI"
      },
      "source": [
        "** •Compare the convergences of ISTA and FISTA, in terms of distance to the minimum and distance to the minimizer. Do your plots using a logarithmic scale of the y-axis **"
      ]
    },
    {
      "cell_type": "markdown",
      "metadata": {
        "id": "igxCBLPHUxPI"
      },
      "source": [
        "First of all, we study the convergence for the ridge penalization."
      ]
    },
    {
      "cell_type": "markdown",
      "metadata": {
        "id": "h8azVwaEUxPI"
      },
      "source": [
        "- Convergence of the error term (it can be viewed as a distance to the minimizer):"
      ]
    },
    {
      "cell_type": "code",
      "metadata": {
        "collapsed": true,
        "id": "6UWTAKYWUxPI",
        "colab": {
          "base_uri": "https://localhost:8080/"
        },
        "outputId": "751cc2cc-1701-4762-c9ef-288fda642687"
      },
      "source": [
        "# Ridge penalization : \n",
        "A, b = simu_linreg(coefs, n_samples=1000, corr=0.5)\n",
        "step=1/lip_linreg(A)\n",
        "Xi_lin, obji_lin, erri_lin = ista(x0, loss_linreg, grad_linreg, ridge, prox_ridge, step, s, n_iter=1000,x_true=coefs, verbose=True)\n",
        "Xf_lin, objf_lin, errf_lin = fista(x0, loss_linreg, grad_linreg, ridge, prox_ridge, step, s, n_iter=1000,x_true=coefs, verbose=True)\n",
        "\n",
        "A, b = simu_logreg(coefs, n_samples=1000, corr=0.5)\n",
        "step=1/lip_logreg(A)\n",
        "Xi_log, obji_log, erri_log = ista(x0, loss_logreg, grad_logreg, ridge, prox_ridge, step, s, n_iter=1000,x_true=coefs, verbose=True)\n",
        "Xf_log, objf_log, errf_log = fista(x0, loss_logreg, grad_logreg, ridge, prox_ridge, step, s, n_iter=1000,x_true=coefs, verbose=True)"
      ],
      "execution_count": null,
      "outputs": [
        {
          "output_type": "stream",
          "text": [
            "Lauching ISTA solver...\n",
            "   it    |   obj    |   err   \n",
            "       0 | 1.32e+00 | 8.77e-01\n",
            "      10 | 5.91e-01 | 2.84e-01\n",
            "      20 | 5.23e-01 | 1.27e-01\n",
            "      30 | 5.15e-01 | 1.05e-01\n",
            "      40 | 5.14e-01 | 1.07e-01\n",
            "      50 | 5.14e-01 | 1.09e-01\n",
            "      60 | 5.14e-01 | 1.10e-01\n",
            "      70 | 5.14e-01 | 1.10e-01\n",
            "      80 | 5.14e-01 | 1.10e-01\n",
            "      90 | 5.14e-01 | 1.10e-01\n",
            "     100 | 5.14e-01 | 1.10e-01\n",
            "     110 | 5.14e-01 | 1.10e-01\n",
            "     120 | 5.14e-01 | 1.10e-01\n",
            "     130 | 5.14e-01 | 1.10e-01\n",
            "     140 | 5.14e-01 | 1.10e-01\n",
            "     150 | 5.14e-01 | 1.10e-01\n",
            "     160 | 5.14e-01 | 1.10e-01\n",
            "     170 | 5.14e-01 | 1.10e-01\n",
            "     180 | 5.14e-01 | 1.10e-01\n",
            "     190 | 5.14e-01 | 1.10e-01\n",
            "     200 | 5.14e-01 | 1.10e-01\n",
            "     210 | 5.14e-01 | 1.10e-01\n",
            "     220 | 5.14e-01 | 1.10e-01\n",
            "     230 | 5.14e-01 | 1.10e-01\n",
            "     240 | 5.14e-01 | 1.10e-01\n",
            "     250 | 5.14e-01 | 1.10e-01\n",
            "     260 | 5.14e-01 | 1.10e-01\n",
            "     270 | 5.14e-01 | 1.10e-01\n",
            "     280 | 5.14e-01 | 1.10e-01\n",
            "     290 | 5.14e-01 | 1.10e-01\n",
            "     300 | 5.14e-01 | 1.10e-01\n",
            "     310 | 5.14e-01 | 1.10e-01\n",
            "     320 | 5.14e-01 | 1.10e-01\n",
            "     330 | 5.14e-01 | 1.10e-01\n",
            "     340 | 5.14e-01 | 1.10e-01\n",
            "     350 | 5.14e-01 | 1.10e-01\n",
            "     360 | 5.14e-01 | 1.10e-01\n",
            "     370 | 5.14e-01 | 1.10e-01\n",
            "     380 | 5.14e-01 | 1.10e-01\n",
            "     390 | 5.14e-01 | 1.10e-01\n",
            "     400 | 5.14e-01 | 1.10e-01\n",
            "     410 | 5.14e-01 | 1.10e-01\n",
            "     420 | 5.14e-01 | 1.10e-01\n",
            "     430 | 5.14e-01 | 1.10e-01\n",
            "     440 | 5.14e-01 | 1.10e-01\n",
            "     450 | 5.14e-01 | 1.10e-01\n",
            "     460 | 5.14e-01 | 1.10e-01\n",
            "     470 | 5.14e-01 | 1.10e-01\n",
            "     480 | 5.14e-01 | 1.10e-01\n",
            "     490 | 5.14e-01 | 1.10e-01\n",
            "     500 | 5.14e-01 | 1.10e-01\n",
            "     510 | 5.14e-01 | 1.10e-01\n",
            "     520 | 5.14e-01 | 1.10e-01\n",
            "     530 | 5.14e-01 | 1.10e-01\n",
            "     540 | 5.14e-01 | 1.10e-01\n",
            "     550 | 5.14e-01 | 1.10e-01\n",
            "     560 | 5.14e-01 | 1.10e-01\n",
            "     570 | 5.14e-01 | 1.10e-01\n",
            "     580 | 5.14e-01 | 1.10e-01\n",
            "     590 | 5.14e-01 | 1.10e-01\n",
            "     600 | 5.14e-01 | 1.10e-01\n",
            "     610 | 5.14e-01 | 1.10e-01\n",
            "     620 | 5.14e-01 | 1.10e-01\n",
            "     630 | 5.14e-01 | 1.10e-01\n",
            "     640 | 5.14e-01 | 1.10e-01\n",
            "     650 | 5.14e-01 | 1.10e-01\n",
            "     660 | 5.14e-01 | 1.10e-01\n",
            "     670 | 5.14e-01 | 1.10e-01\n",
            "     680 | 5.14e-01 | 1.10e-01\n",
            "     690 | 5.14e-01 | 1.10e-01\n",
            "     700 | 5.14e-01 | 1.10e-01\n",
            "     710 | 5.14e-01 | 1.10e-01\n",
            "     720 | 5.14e-01 | 1.10e-01\n",
            "     730 | 5.14e-01 | 1.10e-01\n",
            "     740 | 5.14e-01 | 1.10e-01\n",
            "     750 | 5.14e-01 | 1.10e-01\n",
            "     760 | 5.14e-01 | 1.10e-01\n",
            "     770 | 5.14e-01 | 1.10e-01\n",
            "     780 | 5.14e-01 | 1.10e-01\n",
            "     790 | 5.14e-01 | 1.10e-01\n",
            "     800 | 5.14e-01 | 1.10e-01\n",
            "     810 | 5.14e-01 | 1.10e-01\n",
            "     820 | 5.14e-01 | 1.10e-01\n",
            "     830 | 5.14e-01 | 1.10e-01\n",
            "     840 | 5.14e-01 | 1.10e-01\n",
            "     850 | 5.14e-01 | 1.10e-01\n",
            "     860 | 5.14e-01 | 1.10e-01\n",
            "     870 | 5.14e-01 | 1.10e-01\n",
            "     880 | 5.14e-01 | 1.10e-01\n",
            "     890 | 5.14e-01 | 1.10e-01\n",
            "     900 | 5.14e-01 | 1.10e-01\n",
            "     910 | 5.14e-01 | 1.10e-01\n",
            "     920 | 5.14e-01 | 1.10e-01\n",
            "     930 | 5.14e-01 | 1.10e-01\n",
            "     940 | 5.14e-01 | 1.10e-01\n",
            "     950 | 5.14e-01 | 1.10e-01\n",
            "     960 | 5.14e-01 | 1.10e-01\n",
            "     970 | 5.14e-01 | 1.10e-01\n",
            "     980 | 5.14e-01 | 1.10e-01\n",
            "     990 | 5.14e-01 | 1.10e-01\n",
            "    1000 | 5.14e-01 | 1.10e-01\n",
            "Lauching FISTA solver...\n",
            "   it    |   obj    |   err   \n",
            "       0 | 1.32e+00 | 8.77e-01\n",
            "      10 | 5.14e-01 | 1.12e-01\n",
            "      20 | 5.14e-01 | 1.11e-01\n",
            "      30 | 5.14e-01 | 1.10e-01\n",
            "      40 | 5.14e-01 | 1.10e-01\n",
            "      50 | 5.14e-01 | 1.10e-01\n",
            "      60 | 5.14e-01 | 1.10e-01\n",
            "      70 | 5.14e-01 | 1.10e-01\n",
            "      80 | 5.14e-01 | 1.10e-01\n",
            "      90 | 5.14e-01 | 1.10e-01\n",
            "     100 | 5.14e-01 | 1.10e-01\n",
            "     110 | 5.14e-01 | 1.10e-01\n",
            "     120 | 5.14e-01 | 1.10e-01\n",
            "     130 | 5.14e-01 | 1.10e-01\n",
            "     140 | 5.14e-01 | 1.10e-01\n",
            "     150 | 5.14e-01 | 1.10e-01\n",
            "     160 | 5.14e-01 | 1.10e-01\n",
            "     170 | 5.14e-01 | 1.10e-01\n",
            "     180 | 5.14e-01 | 1.10e-01\n",
            "     190 | 5.14e-01 | 1.10e-01\n",
            "     200 | 5.14e-01 | 1.10e-01\n",
            "     210 | 5.14e-01 | 1.10e-01\n",
            "     220 | 5.14e-01 | 1.10e-01\n",
            "     230 | 5.14e-01 | 1.10e-01\n",
            "     240 | 5.14e-01 | 1.10e-01\n",
            "     250 | 5.14e-01 | 1.10e-01\n",
            "     260 | 5.14e-01 | 1.10e-01\n",
            "     270 | 5.14e-01 | 1.10e-01\n",
            "     280 | 5.14e-01 | 1.10e-01\n",
            "     290 | 5.14e-01 | 1.10e-01\n",
            "     300 | 5.14e-01 | 1.10e-01\n",
            "     310 | 5.14e-01 | 1.10e-01\n",
            "     320 | 5.14e-01 | 1.10e-01\n",
            "     330 | 5.14e-01 | 1.10e-01\n",
            "     340 | 5.14e-01 | 1.10e-01\n",
            "     350 | 5.14e-01 | 1.10e-01\n",
            "     360 | 5.14e-01 | 1.10e-01\n",
            "     370 | 5.14e-01 | 1.10e-01\n",
            "     380 | 5.14e-01 | 1.10e-01\n",
            "     390 | 5.14e-01 | 1.10e-01\n",
            "     400 | 5.14e-01 | 1.10e-01\n",
            "     410 | 5.14e-01 | 1.10e-01\n",
            "     420 | 5.14e-01 | 1.10e-01\n",
            "     430 | 5.14e-01 | 1.10e-01\n",
            "     440 | 5.14e-01 | 1.10e-01\n",
            "     450 | 5.14e-01 | 1.10e-01\n",
            "     460 | 5.14e-01 | 1.10e-01\n",
            "     470 | 5.14e-01 | 1.10e-01\n",
            "     480 | 5.14e-01 | 1.10e-01\n",
            "     490 | 5.14e-01 | 1.10e-01\n",
            "     500 | 5.14e-01 | 1.10e-01\n",
            "     510 | 5.14e-01 | 1.10e-01\n",
            "     520 | 5.14e-01 | 1.10e-01\n",
            "     530 | 5.14e-01 | 1.10e-01\n",
            "     540 | 5.14e-01 | 1.10e-01\n",
            "     550 | 5.14e-01 | 1.10e-01\n",
            "     560 | 5.14e-01 | 1.10e-01\n",
            "     570 | 5.14e-01 | 1.10e-01\n",
            "     580 | 5.14e-01 | 1.10e-01\n",
            "     590 | 5.14e-01 | 1.10e-01\n",
            "     600 | 5.14e-01 | 1.10e-01\n",
            "     610 | 5.14e-01 | 1.10e-01\n",
            "     620 | 5.14e-01 | 1.10e-01\n",
            "     630 | 5.14e-01 | 1.10e-01\n",
            "     640 | 5.14e-01 | 1.10e-01\n",
            "     650 | 5.14e-01 | 1.10e-01\n",
            "     660 | 5.14e-01 | 1.10e-01\n",
            "     670 | 5.14e-01 | 1.10e-01\n",
            "     680 | 5.14e-01 | 1.10e-01\n",
            "     690 | 5.14e-01 | 1.10e-01\n",
            "     700 | 5.14e-01 | 1.10e-01\n",
            "     710 | 5.14e-01 | 1.10e-01\n",
            "     720 | 5.14e-01 | 1.10e-01\n",
            "     730 | 5.14e-01 | 1.10e-01\n",
            "     740 | 5.14e-01 | 1.10e-01\n",
            "     750 | 5.14e-01 | 1.10e-01\n",
            "     760 | 5.14e-01 | 1.10e-01\n",
            "     770 | 5.14e-01 | 1.10e-01\n",
            "     780 | 5.14e-01 | 1.10e-01\n",
            "     790 | 5.14e-01 | 1.10e-01\n",
            "     800 | 5.14e-01 | 1.10e-01\n",
            "     810 | 5.14e-01 | 1.10e-01\n",
            "     820 | 5.14e-01 | 1.10e-01\n",
            "     830 | 5.14e-01 | 1.10e-01\n",
            "     840 | 5.14e-01 | 1.10e-01\n",
            "     850 | 5.14e-01 | 1.10e-01\n",
            "     860 | 5.14e-01 | 1.10e-01\n",
            "     870 | 5.14e-01 | 1.10e-01\n",
            "     880 | 5.14e-01 | 1.10e-01\n",
            "     890 | 5.14e-01 | 1.10e-01\n",
            "     900 | 5.14e-01 | 1.10e-01\n",
            "     910 | 5.14e-01 | 1.10e-01\n",
            "     920 | 5.14e-01 | 1.10e-01\n",
            "     930 | 5.14e-01 | 1.10e-01\n",
            "     940 | 5.14e-01 | 1.10e-01\n",
            "     950 | 5.14e-01 | 1.10e-01\n",
            "     960 | 5.14e-01 | 1.10e-01\n",
            "     970 | 5.14e-01 | 1.10e-01\n",
            "     980 | 5.14e-01 | 1.10e-01\n",
            "     990 | 5.14e-01 | 1.10e-01\n",
            "    1000 | 5.14e-01 | 1.10e-01\n",
            "Lauching ISTA solver...\n",
            "   it    |   obj    |   err   \n",
            "       0 | 5.26e-01 | 7.68e-01\n",
            "      10 | 4.18e-01 | 3.45e-01\n",
            "      20 | 4.04e-01 | 2.07e-01\n",
            "      30 | 3.99e-01 | 1.65e-01\n",
            "      40 | 3.98e-01 | 1.67e-01\n",
            "      50 | 3.97e-01 | 1.81e-01\n",
            "      60 | 3.96e-01 | 1.96e-01\n",
            "      70 | 3.96e-01 | 2.07e-01\n",
            "      80 | 3.96e-01 | 2.16e-01\n",
            "      90 | 3.96e-01 | 2.22e-01\n",
            "     100 | 3.96e-01 | 2.26e-01\n",
            "     110 | 3.96e-01 | 2.30e-01\n",
            "     120 | 3.96e-01 | 2.32e-01\n",
            "     130 | 3.96e-01 | 2.33e-01\n",
            "     140 | 3.96e-01 | 2.35e-01\n",
            "     150 | 3.96e-01 | 2.35e-01\n",
            "     160 | 3.96e-01 | 2.36e-01\n",
            "     170 | 3.96e-01 | 2.36e-01\n",
            "     180 | 3.96e-01 | 2.37e-01\n",
            "     190 | 3.96e-01 | 2.37e-01\n",
            "     200 | 3.96e-01 | 2.37e-01\n",
            "     210 | 3.96e-01 | 2.37e-01\n",
            "     220 | 3.96e-01 | 2.37e-01\n",
            "     230 | 3.96e-01 | 2.37e-01\n",
            "     240 | 3.96e-01 | 2.37e-01\n",
            "     250 | 3.96e-01 | 2.37e-01\n",
            "     260 | 3.96e-01 | 2.37e-01\n",
            "     270 | 3.96e-01 | 2.37e-01\n",
            "     280 | 3.96e-01 | 2.37e-01\n",
            "     290 | 3.96e-01 | 2.37e-01\n",
            "     300 | 3.96e-01 | 2.37e-01\n",
            "     310 | 3.96e-01 | 2.37e-01\n",
            "     320 | 3.96e-01 | 2.37e-01\n",
            "     330 | 3.96e-01 | 2.37e-01\n",
            "     340 | 3.96e-01 | 2.37e-01\n",
            "     350 | 3.96e-01 | 2.37e-01\n",
            "     360 | 3.96e-01 | 2.37e-01\n",
            "     370 | 3.96e-01 | 2.37e-01\n",
            "     380 | 3.96e-01 | 2.37e-01\n",
            "     390 | 3.96e-01 | 2.37e-01\n",
            "     400 | 3.96e-01 | 2.37e-01\n",
            "     410 | 3.96e-01 | 2.37e-01\n",
            "     420 | 3.96e-01 | 2.37e-01\n",
            "     430 | 3.96e-01 | 2.37e-01\n",
            "     440 | 3.96e-01 | 2.37e-01\n",
            "     450 | 3.96e-01 | 2.37e-01\n",
            "     460 | 3.96e-01 | 2.37e-01\n",
            "     470 | 3.96e-01 | 2.37e-01\n",
            "     480 | 3.96e-01 | 2.37e-01\n",
            "     490 | 3.96e-01 | 2.37e-01\n",
            "     500 | 3.96e-01 | 2.37e-01\n",
            "     510 | 3.96e-01 | 2.37e-01\n",
            "     520 | 3.96e-01 | 2.37e-01\n",
            "     530 | 3.96e-01 | 2.37e-01\n",
            "     540 | 3.96e-01 | 2.37e-01\n",
            "     550 | 3.96e-01 | 2.37e-01\n",
            "     560 | 3.96e-01 | 2.37e-01\n",
            "     570 | 3.96e-01 | 2.37e-01\n",
            "     580 | 3.96e-01 | 2.37e-01\n",
            "     590 | 3.96e-01 | 2.37e-01\n",
            "     600 | 3.96e-01 | 2.37e-01\n",
            "     610 | 3.96e-01 | 2.37e-01\n",
            "     620 | 3.96e-01 | 2.37e-01\n",
            "     630 | 3.96e-01 | 2.37e-01\n",
            "     640 | 3.96e-01 | 2.37e-01\n",
            "     650 | 3.96e-01 | 2.37e-01\n",
            "     660 | 3.96e-01 | 2.37e-01\n",
            "     670 | 3.96e-01 | 2.37e-01\n",
            "     680 | 3.96e-01 | 2.37e-01\n",
            "     690 | 3.96e-01 | 2.37e-01\n",
            "     700 | 3.96e-01 | 2.37e-01\n",
            "     710 | 3.96e-01 | 2.37e-01\n",
            "     720 | 3.96e-01 | 2.37e-01\n",
            "     730 | 3.96e-01 | 2.37e-01\n",
            "     740 | 3.96e-01 | 2.37e-01\n",
            "     750 | 3.96e-01 | 2.37e-01\n",
            "     760 | 3.96e-01 | 2.37e-01\n",
            "     770 | 3.96e-01 | 2.37e-01\n",
            "     780 | 3.96e-01 | 2.37e-01\n",
            "     790 | 3.96e-01 | 2.37e-01\n",
            "     800 | 3.96e-01 | 2.37e-01\n",
            "     810 | 3.96e-01 | 2.37e-01\n",
            "     820 | 3.96e-01 | 2.37e-01\n",
            "     830 | 3.96e-01 | 2.37e-01\n",
            "     840 | 3.96e-01 | 2.37e-01\n",
            "     850 | 3.96e-01 | 2.37e-01\n",
            "     860 | 3.96e-01 | 2.37e-01\n",
            "     870 | 3.96e-01 | 2.37e-01\n",
            "     880 | 3.96e-01 | 2.37e-01\n",
            "     890 | 3.96e-01 | 2.37e-01\n",
            "     900 | 3.96e-01 | 2.37e-01\n",
            "     910 | 3.96e-01 | 2.37e-01\n",
            "     920 | 3.96e-01 | 2.37e-01\n",
            "     930 | 3.96e-01 | 2.37e-01\n",
            "     940 | 3.96e-01 | 2.37e-01\n",
            "     950 | 3.96e-01 | 2.37e-01\n",
            "     960 | 3.96e-01 | 2.37e-01\n",
            "     970 | 3.96e-01 | 2.37e-01\n",
            "     980 | 3.96e-01 | 2.37e-01\n",
            "     990 | 3.96e-01 | 2.37e-01\n",
            "    1000 | 3.96e-01 | 2.37e-01\n",
            "Lauching FISTA solver...\n",
            "   it    |   obj    |   err   \n",
            "       0 | 5.26e-01 | 7.68e-01\n",
            "      10 | 4.00e-01 | 1.67e-01\n",
            "      20 | 3.96e-01 | 2.80e-01\n",
            "      30 | 3.96e-01 | 2.53e-01\n",
            "      40 | 3.96e-01 | 2.23e-01\n",
            "      50 | 3.96e-01 | 2.37e-01\n",
            "      60 | 3.96e-01 | 2.43e-01\n",
            "      70 | 3.96e-01 | 2.35e-01\n",
            "      80 | 3.96e-01 | 2.35e-01\n",
            "      90 | 3.96e-01 | 2.39e-01\n",
            "     100 | 3.96e-01 | 2.37e-01\n",
            "     110 | 3.96e-01 | 2.36e-01\n",
            "     120 | 3.96e-01 | 2.38e-01\n",
            "     130 | 3.96e-01 | 2.38e-01\n",
            "     140 | 3.96e-01 | 2.37e-01\n",
            "     150 | 3.96e-01 | 2.37e-01\n",
            "     160 | 3.96e-01 | 2.38e-01\n",
            "     170 | 3.96e-01 | 2.37e-01\n",
            "     180 | 3.96e-01 | 2.37e-01\n",
            "     190 | 3.96e-01 | 2.37e-01\n",
            "     200 | 3.96e-01 | 2.37e-01\n",
            "     210 | 3.96e-01 | 2.37e-01\n",
            "     220 | 3.96e-01 | 2.37e-01\n",
            "     230 | 3.96e-01 | 2.37e-01\n",
            "     240 | 3.96e-01 | 2.37e-01\n",
            "     250 | 3.96e-01 | 2.37e-01\n",
            "     260 | 3.96e-01 | 2.37e-01\n",
            "     270 | 3.96e-01 | 2.37e-01\n",
            "     280 | 3.96e-01 | 2.37e-01\n",
            "     290 | 3.96e-01 | 2.37e-01\n",
            "     300 | 3.96e-01 | 2.37e-01\n",
            "     310 | 3.96e-01 | 2.37e-01\n",
            "     320 | 3.96e-01 | 2.37e-01\n",
            "     330 | 3.96e-01 | 2.37e-01\n",
            "     340 | 3.96e-01 | 2.37e-01\n",
            "     350 | 3.96e-01 | 2.37e-01\n",
            "     360 | 3.96e-01 | 2.37e-01\n",
            "     370 | 3.96e-01 | 2.37e-01\n",
            "     380 | 3.96e-01 | 2.37e-01\n",
            "     390 | 3.96e-01 | 2.37e-01\n",
            "     400 | 3.96e-01 | 2.37e-01\n",
            "     410 | 3.96e-01 | 2.37e-01\n",
            "     420 | 3.96e-01 | 2.37e-01\n",
            "     430 | 3.96e-01 | 2.37e-01\n",
            "     440 | 3.96e-01 | 2.37e-01\n",
            "     450 | 3.96e-01 | 2.37e-01\n",
            "     460 | 3.96e-01 | 2.37e-01\n",
            "     470 | 3.96e-01 | 2.37e-01\n",
            "     480 | 3.96e-01 | 2.37e-01\n",
            "     490 | 3.96e-01 | 2.37e-01\n",
            "     500 | 3.96e-01 | 2.37e-01\n",
            "     510 | 3.96e-01 | 2.37e-01\n",
            "     520 | 3.96e-01 | 2.37e-01\n",
            "     530 | 3.96e-01 | 2.37e-01\n",
            "     540 | 3.96e-01 | 2.37e-01\n",
            "     550 | 3.96e-01 | 2.37e-01\n",
            "     560 | 3.96e-01 | 2.37e-01\n",
            "     570 | 3.96e-01 | 2.37e-01\n",
            "     580 | 3.96e-01 | 2.37e-01\n",
            "     590 | 3.96e-01 | 2.37e-01\n",
            "     600 | 3.96e-01 | 2.37e-01\n",
            "     610 | 3.96e-01 | 2.37e-01\n",
            "     620 | 3.96e-01 | 2.37e-01\n",
            "     630 | 3.96e-01 | 2.37e-01\n",
            "     640 | 3.96e-01 | 2.37e-01\n",
            "     650 | 3.96e-01 | 2.37e-01\n",
            "     660 | 3.96e-01 | 2.37e-01\n",
            "     670 | 3.96e-01 | 2.37e-01\n",
            "     680 | 3.96e-01 | 2.37e-01\n",
            "     690 | 3.96e-01 | 2.37e-01\n",
            "     700 | 3.96e-01 | 2.37e-01\n",
            "     710 | 3.96e-01 | 2.37e-01\n",
            "     720 | 3.96e-01 | 2.37e-01\n",
            "     730 | 3.96e-01 | 2.37e-01\n",
            "     740 | 3.96e-01 | 2.37e-01\n",
            "     750 | 3.96e-01 | 2.37e-01\n",
            "     760 | 3.96e-01 | 2.37e-01\n",
            "     770 | 3.96e-01 | 2.37e-01\n",
            "     780 | 3.96e-01 | 2.37e-01\n",
            "     790 | 3.96e-01 | 2.37e-01\n",
            "     800 | 3.96e-01 | 2.37e-01\n",
            "     810 | 3.96e-01 | 2.37e-01\n",
            "     820 | 3.96e-01 | 2.37e-01\n",
            "     830 | 3.96e-01 | 2.37e-01\n",
            "     840 | 3.96e-01 | 2.37e-01\n",
            "     850 | 3.96e-01 | 2.37e-01\n",
            "     860 | 3.96e-01 | 2.37e-01\n",
            "     870 | 3.96e-01 | 2.37e-01\n",
            "     880 | 3.96e-01 | 2.37e-01\n",
            "     890 | 3.96e-01 | 2.37e-01\n",
            "     900 | 3.96e-01 | 2.37e-01\n",
            "     910 | 3.96e-01 | 2.37e-01\n",
            "     920 | 3.96e-01 | 2.37e-01\n",
            "     930 | 3.96e-01 | 2.37e-01\n",
            "     940 | 3.96e-01 | 2.37e-01\n",
            "     950 | 3.96e-01 | 2.37e-01\n",
            "     960 | 3.96e-01 | 2.37e-01\n",
            "     970 | 3.96e-01 | 2.37e-01\n",
            "     980 | 3.96e-01 | 2.37e-01\n",
            "     990 | 3.96e-01 | 2.37e-01\n",
            "    1000 | 3.96e-01 | 2.37e-01\n"
          ],
          "name": "stdout"
        }
      ]
    },
    {
      "cell_type": "code",
      "metadata": {
        "scrolled": true,
        "id": "OmlF-g7OUxPI",
        "colab": {
          "base_uri": "https://localhost:8080/",
          "height": 295
        },
        "outputId": "540b92bc-3d81-4408-a3a9-23f5e03d2883"
      },
      "source": [
        "# ridge penalization\n",
        "plt.plot(erri_lin,'r',label = \"ISTA error for linear reg\")\n",
        "plt.plot(errf_lin,'b',label = \"FISTA error for linear reg\")\n",
        "plt.plot(erri_log,'r--',label = \"ISTA error for logistic reg\")\n",
        "plt.plot(errf_log,'b--',label = \"FISTA error for logistic reg\")\n",
        "plt.yscale('log')\n",
        "plt.xlabel(\"Nb of iterations\")\n",
        "plt.ylabel(\"Error rate\")\n",
        "plt.legend()\n",
        "plt.title(\"Convergence of ISTA and FISTA with ridge penalization\")\n",
        "plt.xlim(0,100)\n",
        "plt.show()"
      ],
      "execution_count": null,
      "outputs": [
        {
          "output_type": "display_data",
          "data": {
            "image/png": "[encoded data removed]",
            "text/plain": [
              "<Figure size 432x288 with 1 Axes>"
            ]
          },
          "metadata": {
            "tags": [],
            "needs_background": "light"
          }
        }
      ]
    },
    {
      "cell_type": "markdown",
      "metadata": {
        "id": "jtN4QoQaUxPI"
      },
      "source": [
        "- Convergence in terms of distance to the minimum:"
      ]
    },
    {
      "cell_type": "code",
      "metadata": {
        "id": "T9zc06GUUxPJ",
        "colab": {
          "base_uri": "https://localhost:8080/",
          "height": 349
        },
        "outputId": "c0fb21dd-b750-4372-f58b-2a704da33a84"
      },
      "source": [
        "# ridge penalization\n",
        "\n",
        "true_obj_lin = loss_linreg(coefs) + ridge(coefs, s)\n",
        "true_obj_log = loss_logreg(coefs) + ridge(coefs, s)\n",
        "\n",
        "plt.plot((obji_log- true_obj_log)**2,'r',label = \"ISTA, logistic reg\")\n",
        "plt.plot((objf_log- true_obj_log)**2,'b',label = \"FISTA,logistic reg\")\n",
        "plt.plot((obji_lin- true_obj_lin)**2,'r--',label = \"ISTA, linear reg\")\n",
        "plt.plot((objf_lin- true_obj_lin)**2,'b--',label = \"FISTA,linear reg\")\n",
        "\n",
        "ax = plt.subplot(111)\n",
        "ax.set_yscale('log')\n",
        "plt.legend()\n",
        "plt.xlabel(\"Iterations\")\n",
        "plt.ylabel(\"Error in term of minimum\")\n",
        "plt.title(\"Comparison of FISTA and ISTA in terms of distance to the minimum with ridge penalization\")\n",
        "plt.xlim(0,100)\n",
        "plt.show()"
      ],
      "execution_count": null,
      "outputs": [
        {
          "output_type": "stream",
          "text": [
            "/usr/local/lib/python3.7/dist-packages/ipykernel_launcher.py:11: MatplotlibDeprecationWarning: Adding an axes using the same arguments as a previous axes currently reuses the earlier instance.  In a future version, a new instance will always be created and returned.  Meanwhile, this warning can be suppressed, and the future behavior ensured, by passing a unique label to each axes instance.\n",
            "  # This is added back by InteractiveShellApp.init_path()\n"
          ],
          "name": "stderr"
        },
        {
          "output_type": "display_data",
          "data": {
            "image/png": "[encoded data removed]",
            "text/plain": [
              "<Figure size 432x288 with 1 Axes>"
            ]
          },
          "metadata": {
            "tags": [],
            "needs_background": "light"
          }
        }
      ]
    },
    {
      "cell_type": "markdown",
      "metadata": {
        "id": "W6dIIYPTUxPJ"
      },
      "source": [
        "We now study the convergence with lasso penalization"
      ]
    },
    {
      "cell_type": "code",
      "metadata": {
        "scrolled": true,
        "id": "GxOfyh1LUxPJ",
        "colab": {
          "base_uri": "https://localhost:8080/",
          "height": 295
        },
        "outputId": "1fd2292f-3917-4d6d-ca21-3a236ed5233e"
      },
      "source": [
        "# Convergence in terms of distance to the minimum  - lasso penalization\n",
        "\n",
        "true_obj_lin = loss_linreg(coefs) + ridge(coefs, s)\n",
        "true_obj_log = loss_logreg(coefs) + ridge(coefs, s)\n",
        "\n",
        "ax.set_yscale('log')\n",
        "plt.plot((obji_log- true_obj_log)**2,'r',label = \"ISTA, logistic reg\")\n",
        "plt.plot((objf_log- true_obj_log)**2,'b',label = \"FISTA,logistic reg\")\n",
        "plt.plot((obji_lin- true_obj_lin)**2,'r--',label = \"ISTA, linear reg\")\n",
        "plt.plot((objf_lin- true_obj_lin)**2,'b--',label = \"FISTA,linear reg\")\n",
        "\n",
        "ax.set_yscale('log')\n",
        "plt.legend()\n",
        "plt.xlabel(\"Iterations\")\n",
        "plt.ylabel(\"Error in term of minimum\")\n",
        "plt.title(\"Comparison of FISTA and ISTA in terms of distance to the minimum with lasso penalization\")\n",
        "plt.xlim(0,50)\n",
        "plt.show()"
      ],
      "execution_count": null,
      "outputs": [
        {
          "output_type": "display_data",
          "data": {
            "image/png": "[encoded data removed]",
            "text/plain": [
              "<Figure size 432x288 with 1 Axes>"
            ]
          },
          "metadata": {
            "tags": [],
            "needs_background": "light"
          }
        }
      ]
    },
    {
      "cell_type": "markdown",
      "metadata": {
        "id": "mjcYZO0BUxPJ"
      },
      "source": [
        "We observe that the FISTA algorithm (blue line) converges faster than the ISTA algorithm (red line). \n",
        "In addition, for both algorithms and penalizations, the error is smaller when a linear regression is used."
      ]
    },
    {
      "cell_type": "markdown",
      "metadata": {
        "id": "9YD3JYziUxPJ"
      },
      "source": [
        "<div class=\"alert alert-success\">\n",
        "    <b>EXERCISE</b>:\n",
        "     <ul>\n",
        "      <li>Compare the solution you obtain with ista and fista with the true parameter `coefs` of\n",
        "  the model. This can be done with `plt.stem` plots.</li>\n",
        "    <li>In linear regression and logistic regression, study the influence of the correlation \n",
        "  of the features on the performance of the optimization algorithms. Explain.</li>\n",
        "    <li>In linear regression and logistic regression, study the influence of the level of ridge \n",
        "  penalization on the performance of the optimization algorithms. Explain.</li>\n",
        "    <li>In linear regression and logistic regression, compare the performance of the optimization\n",
        "  algorithms for ridge and lasso penalizations. Explain</li>\n",
        "    </ul>\n",
        "</div>"
      ]
    },
    {
      "cell_type": "markdown",
      "metadata": {
        "id": "FANah2WAUxPL"
      },
      "source": [
        "#### Comments:\n",
        "\n",
        "We observe that the Lipschitz constant increases with the level of correlation. For example, the Lipschitz constant of the gradient of the linear regression is equal to 2.5 with a correlation parameter equal to 0.3 against 8.4 with a correlation parameter equal to 0.8. Since the convergence rate of the FISTA and ISTA algorithms is proportional to the Lipschitz constant, the speed of convergence of the algorithms is lower with large correlations. In this regard, the Beck Teboulle theorem states that the error is upper-bounded linearly by the Lipschitz constant.\n",
        "\n",
        "On the graph below, we can see that as the features correlation increases, the algorithms' speed of convergence decreases.\n",
        "Besides, FISTA is always better than ISTA (and more especially with high correlation)."
      ]
    },
    {
      "cell_type": "markdown",
      "metadata": {
        "id": "X3dzc9-1UxPN"
      },
      "source": [
        "#### Comments: \n",
        "\n",
        "We observe that the speed of convergence is faster when the strength of penalization is large. However, as the penalization increases, the error rate is higher. It is due to the fact that the penalization controls the tradeoff between fit and complexity: both the coefficient values and the speed of convergence are impacted by this parameter.  More precisely, as we have seen in Part 1 (\"Visualization\"), coefficient values are shrinked when the penalization increases ; consequently the error is larger (we underfit the data). \n",
        "\n",
        "Moreover, FISTA is always better than ISTA (especially when the penalization is low)."
      ]
    }
  ]
}