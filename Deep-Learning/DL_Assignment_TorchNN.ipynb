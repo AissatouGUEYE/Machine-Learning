{
  "nbformat": 4,
  "nbformat_minor": 0,
  "metadata": {
    "accelerator": "GPU",
    "colab": {
      "provenance": []
    },
    "kernelspec": {
      "display_name": "Python 3",
      "language": "python",
      "name": "python3"
    },
    "language_info": {
      "codemirror_mode": {
        "name": "ipython",
        "version": 3
      },
      "file_extension": ".py",
      "mimetype": "text/x-python",
      "name": "python",
      "nbconvert_exporter": "python",
      "pygments_lexer": "ipython3",
      "version": "3.8.5"
    },
    "widgets": {
      "application/vnd.jupyter.widget-state+json": {
        "459baed5a14845d7b47cfaad7aa25611": {
          "model_module": "@jupyter-widgets/controls",
          "model_name": "HBoxModel",
          "state": {
            "_view_name": "HBoxView",
            "_dom_classes": [],
            "_model_name": "HBoxModel",
            "_view_module": "@jupyter-widgets/controls",
            "_model_module_version": "1.5.0",
            "_view_count": null,
            "_view_module_version": "1.5.0",
            "box_style": "",
            "layout": "IPY_MODEL_962af8240b1344d284c83d9958dd32bd",
            "_model_module": "@jupyter-widgets/controls",
            "children": [
              "IPY_MODEL_962ceac5f0524155aa92971550b252b1",
              "IPY_MODEL_e06070f8b20c4a639f503b35972e3122"
            ]
          },
          "model_module_version": "1.5.0"
        },
        "962af8240b1344d284c83d9958dd32bd": {
          "model_module": "@jupyter-widgets/base",
          "model_name": "LayoutModel",
          "state": {
            "_view_name": "LayoutView",
            "grid_template_rows": null,
            "right": null,
            "justify_content": null,
            "_view_module": "@jupyter-widgets/base",
            "overflow": null,
            "_model_module_version": "1.2.0",
            "_view_count": null,
            "flex_flow": null,
            "width": null,
            "min_width": null,
            "border": null,
            "align_items": null,
            "bottom": null,
            "_model_module": "@jupyter-widgets/base",
            "top": null,
            "grid_column": null,
            "overflow_y": null,
            "overflow_x": null,
            "grid_auto_flow": null,
            "grid_area": null,
            "grid_template_columns": null,
            "flex": null,
            "_model_name": "LayoutModel",
            "justify_items": null,
            "grid_row": null,
            "max_height": null,
            "align_content": null,
            "visibility": null,
            "align_self": null,
            "height": null,
            "min_height": null,
            "padding": null,
            "grid_auto_rows": null,
            "grid_gap": null,
            "max_width": null,
            "order": null,
            "_view_module_version": "1.2.0",
            "grid_template_areas": null,
            "object_position": null,
            "object_fit": null,
            "grid_auto_columns": null,
            "margin": null,
            "display": null,
            "left": null
          },
          "model_module_version": "1.2.0"
        },
        "962ceac5f0524155aa92971550b252b1": {
          "model_module": "@jupyter-widgets/controls",
          "model_name": "FloatProgressModel",
          "state": {
            "_view_name": "ProgressView",
            "style": "IPY_MODEL_ec3c0d51659f4fd4b4983fb9085ec673",
            "_dom_classes": [],
            "description": "",
            "_model_name": "FloatProgressModel",
            "bar_style": "success",
            "max": 26421880,
            "_view_module": "@jupyter-widgets/controls",
            "_model_module_version": "1.5.0",
            "value": 26421880,
            "_view_count": null,
            "_view_module_version": "1.5.0",
            "orientation": "horizontal",
            "min": 0,
            "description_tooltip": null,
            "_model_module": "@jupyter-widgets/controls",
            "layout": "IPY_MODEL_9387d44e4f1d415586afffa3633e1e4f"
          },
          "model_module_version": "1.5.0"
        },
        "e06070f8b20c4a639f503b35972e3122": {
          "model_module": "@jupyter-widgets/controls",
          "model_name": "HTMLModel",
          "state": {
            "_view_name": "HTMLView",
            "style": "IPY_MODEL_a39d371715384ceb8d2782b557f94c53",
            "_dom_classes": [],
            "description": "",
            "_model_name": "HTMLModel",
            "placeholder": "​",
            "_view_module": "@jupyter-widgets/controls",
            "_model_module_version": "1.5.0",
            "value": " 26422272/? [14:31&lt;00:00, 30303.78it/s]",
            "_view_count": null,
            "_view_module_version": "1.5.0",
            "description_tooltip": null,
            "_model_module": "@jupyter-widgets/controls",
            "layout": "IPY_MODEL_76fceb81a7f34ba4ab865c00f385e7b7"
          },
          "model_module_version": "1.5.0"
        },
        "ec3c0d51659f4fd4b4983fb9085ec673": {
          "model_module": "@jupyter-widgets/controls",
          "model_name": "ProgressStyleModel",
          "state": {
            "_view_name": "StyleView",
            "_model_name": "ProgressStyleModel",
            "description_width": "initial",
            "_view_module": "@jupyter-widgets/base",
            "_model_module_version": "1.5.0",
            "_view_count": null,
            "_view_module_version": "1.2.0",
            "bar_color": null,
            "_model_module": "@jupyter-widgets/controls"
          },
          "model_module_version": "1.5.0"
        },
        "9387d44e4f1d415586afffa3633e1e4f": {
          "model_module": "@jupyter-widgets/base",
          "model_name": "LayoutModel",
          "state": {
            "_view_name": "LayoutView",
            "grid_template_rows": null,
            "right": null,
            "justify_content": null,
            "_view_module": "@jupyter-widgets/base",
            "overflow": null,
            "_model_module_version": "1.2.0",
            "_view_count": null,
            "flex_flow": null,
            "width": null,
            "min_width": null,
            "border": null,
            "align_items": null,
            "bottom": null,
            "_model_module": "@jupyter-widgets/base",
            "top": null,
            "grid_column": null,
            "overflow_y": null,
            "overflow_x": null,
            "grid_auto_flow": null,
            "grid_area": null,
            "grid_template_columns": null,
            "flex": null,
            "_model_name": "LayoutModel",
            "justify_items": null,
            "grid_row": null,
            "max_height": null,
            "align_content": null,
            "visibility": null,
            "align_self": null,
            "height": null,
            "min_height": null,
            "padding": null,
            "grid_auto_rows": null,
            "grid_gap": null,
            "max_width": null,
            "order": null,
            "_view_module_version": "1.2.0",
            "grid_template_areas": null,
            "object_position": null,
            "object_fit": null,
            "grid_auto_columns": null,
            "margin": null,
            "display": null,
            "left": null
          },
          "model_module_version": "1.2.0"
        },
        "a39d371715384ceb8d2782b557f94c53": {
          "model_module": "@jupyter-widgets/controls",
          "model_name": "DescriptionStyleModel",
          "state": {
            "_view_name": "StyleView",
            "_model_name": "DescriptionStyleModel",
            "description_width": "",
            "_view_module": "@jupyter-widgets/base",
            "_model_module_version": "1.5.0",
            "_view_count": null,
            "_view_module_version": "1.2.0",
            "_model_module": "@jupyter-widgets/controls"
          },
          "model_module_version": "1.5.0"
        },
        "76fceb81a7f34ba4ab865c00f385e7b7": {
          "model_module": "@jupyter-widgets/base",
          "model_name": "LayoutModel",
          "state": {
            "_view_name": "LayoutView",
            "grid_template_rows": null,
            "right": null,
            "justify_content": null,
            "_view_module": "@jupyter-widgets/base",
            "overflow": null,
            "_model_module_version": "1.2.0",
            "_view_count": null,
            "flex_flow": null,
            "width": null,
            "min_width": null,
            "border": null,
            "align_items": null,
            "bottom": null,
            "_model_module": "@jupyter-widgets/base",
            "top": null,
            "grid_column": null,
            "overflow_y": null,
            "overflow_x": null,
            "grid_auto_flow": null,
            "grid_area": null,
            "grid_template_columns": null,
            "flex": null,
            "_model_name": "LayoutModel",
            "justify_items": null,
            "grid_row": null,
            "max_height": null,
            "align_content": null,
            "visibility": null,
            "align_self": null,
            "height": null,
            "min_height": null,
            "padding": null,
            "grid_auto_rows": null,
            "grid_gap": null,
            "max_width": null,
            "order": null,
            "_view_module_version": "1.2.0",
            "grid_template_areas": null,
            "object_position": null,
            "object_fit": null,
            "grid_auto_columns": null,
            "margin": null,
            "display": null,
            "left": null
          },
          "model_module_version": "1.2.0"
        },
        "69ca82fa57c54a619969c4c6460f4c4a": {
          "model_module": "@jupyter-widgets/controls",
          "model_name": "HBoxModel",
          "state": {
            "_view_name": "HBoxView",
            "_dom_classes": [],
            "_model_name": "HBoxModel",
            "_view_module": "@jupyter-widgets/controls",
            "_model_module_version": "1.5.0",
            "_view_count": null,
            "_view_module_version": "1.5.0",
            "box_style": "",
            "layout": "IPY_MODEL_80ccc66fefbb4a1899b437219e85b823",
            "_model_module": "@jupyter-widgets/controls",
            "children": [
              "IPY_MODEL_1ce988a041bb4baab827728330e9ad30",
              "IPY_MODEL_fc11e5646ef6452cae6b2a7e1eb3c366"
            ]
          },
          "model_module_version": "1.5.0"
        },
        "80ccc66fefbb4a1899b437219e85b823": {
          "model_module": "@jupyter-widgets/base",
          "model_name": "LayoutModel",
          "state": {
            "_view_name": "LayoutView",
            "grid_template_rows": null,
            "right": null,
            "justify_content": null,
            "_view_module": "@jupyter-widgets/base",
            "overflow": null,
            "_model_module_version": "1.2.0",
            "_view_count": null,
            "flex_flow": null,
            "width": null,
            "min_width": null,
            "border": null,
            "align_items": null,
            "bottom": null,
            "_model_module": "@jupyter-widgets/base",
            "top": null,
            "grid_column": null,
            "overflow_y": null,
            "overflow_x": null,
            "grid_auto_flow": null,
            "grid_area": null,
            "grid_template_columns": null,
            "flex": null,
            "_model_name": "LayoutModel",
            "justify_items": null,
            "grid_row": null,
            "max_height": null,
            "align_content": null,
            "visibility": null,
            "align_self": null,
            "height": null,
            "min_height": null,
            "padding": null,
            "grid_auto_rows": null,
            "grid_gap": null,
            "max_width": null,
            "order": null,
            "_view_module_version": "1.2.0",
            "grid_template_areas": null,
            "object_position": null,
            "object_fit": null,
            "grid_auto_columns": null,
            "margin": null,
            "display": null,
            "left": null
          },
          "model_module_version": "1.2.0"
        },
        "1ce988a041bb4baab827728330e9ad30": {
          "model_module": "@jupyter-widgets/controls",
          "model_name": "FloatProgressModel",
          "state": {
            "_view_name": "ProgressView",
            "style": "IPY_MODEL_c0ef31ab2e004128827f8dc46e143c02",
            "_dom_classes": [],
            "description": "",
            "_model_name": "FloatProgressModel",
            "bar_style": "success",
            "max": 29515,
            "_view_module": "@jupyter-widgets/controls",
            "_model_module_version": "1.5.0",
            "value": 29515,
            "_view_count": null,
            "_view_module_version": "1.5.0",
            "orientation": "horizontal",
            "min": 0,
            "description_tooltip": null,
            "_model_module": "@jupyter-widgets/controls",
            "layout": "IPY_MODEL_96c9450ee9f541c4be065f06ff38b5cc"
          },
          "model_module_version": "1.5.0"
        },
        "fc11e5646ef6452cae6b2a7e1eb3c366": {
          "model_module": "@jupyter-widgets/controls",
          "model_name": "HTMLModel",
          "state": {
            "_view_name": "HTMLView",
            "style": "IPY_MODEL_1a171f2d6f734c56aee607629834e1db",
            "_dom_classes": [],
            "description": "",
            "_model_name": "HTMLModel",
            "placeholder": "​",
            "_view_module": "@jupyter-widgets/controls",
            "_model_module_version": "1.5.0",
            "value": " 29696/? [00:03&lt;00:00, 7739.20it/s]",
            "_view_count": null,
            "_view_module_version": "1.5.0",
            "description_tooltip": null,
            "_model_module": "@jupyter-widgets/controls",
            "layout": "IPY_MODEL_7752fcc90d4642f4960a465c206c4325"
          },
          "model_module_version": "1.5.0"
        },
        "c0ef31ab2e004128827f8dc46e143c02": {
          "model_module": "@jupyter-widgets/controls",
          "model_name": "ProgressStyleModel",
          "state": {
            "_view_name": "StyleView",
            "_model_name": "ProgressStyleModel",
            "description_width": "initial",
            "_view_module": "@jupyter-widgets/base",
            "_model_module_version": "1.5.0",
            "_view_count": null,
            "_view_module_version": "1.2.0",
            "bar_color": null,
            "_model_module": "@jupyter-widgets/controls"
          },
          "model_module_version": "1.5.0"
        },
        "96c9450ee9f541c4be065f06ff38b5cc": {
          "model_module": "@jupyter-widgets/base",
          "model_name": "LayoutModel",
          "state": {
            "_view_name": "LayoutView",
            "grid_template_rows": null,
            "right": null,
            "justify_content": null,
            "_view_module": "@jupyter-widgets/base",
            "overflow": null,
            "_model_module_version": "1.2.0",
            "_view_count": null,
            "flex_flow": null,
            "width": null,
            "min_width": null,
            "border": null,
            "align_items": null,
            "bottom": null,
            "_model_module": "@jupyter-widgets/base",
            "top": null,
            "grid_column": null,
            "overflow_y": null,
            "overflow_x": null,
            "grid_auto_flow": null,
            "grid_area": null,
            "grid_template_columns": null,
            "flex": null,
            "_model_name": "LayoutModel",
            "justify_items": null,
            "grid_row": null,
            "max_height": null,
            "align_content": null,
            "visibility": null,
            "align_self": null,
            "height": null,
            "min_height": null,
            "padding": null,
            "grid_auto_rows": null,
            "grid_gap": null,
            "max_width": null,
            "order": null,
            "_view_module_version": "1.2.0",
            "grid_template_areas": null,
            "object_position": null,
            "object_fit": null,
            "grid_auto_columns": null,
            "margin": null,
            "display": null,
            "left": null
          },
          "model_module_version": "1.2.0"
        },
        "1a171f2d6f734c56aee607629834e1db": {
          "model_module": "@jupyter-widgets/controls",
          "model_name": "DescriptionStyleModel",
          "state": {
            "_view_name": "StyleView",
            "_model_name": "DescriptionStyleModel",
            "description_width": "",
            "_view_module": "@jupyter-widgets/base",
            "_model_module_version": "1.5.0",
            "_view_count": null,
            "_view_module_version": "1.2.0",
            "_model_module": "@jupyter-widgets/controls"
          },
          "model_module_version": "1.5.0"
        },
        "7752fcc90d4642f4960a465c206c4325": {
          "model_module": "@jupyter-widgets/base",
          "model_name": "LayoutModel",
          "state": {
            "_view_name": "LayoutView",
            "grid_template_rows": null,
            "right": null,
            "justify_content": null,
            "_view_module": "@jupyter-widgets/base",
            "overflow": null,
            "_model_module_version": "1.2.0",
            "_view_count": null,
            "flex_flow": null,
            "width": null,
            "min_width": null,
            "border": null,
            "align_items": null,
            "bottom": null,
            "_model_module": "@jupyter-widgets/base",
            "top": null,
            "grid_column": null,
            "overflow_y": null,
            "overflow_x": null,
            "grid_auto_flow": null,
            "grid_area": null,
            "grid_template_columns": null,
            "flex": null,
            "_model_name": "LayoutModel",
            "justify_items": null,
            "grid_row": null,
            "max_height": null,
            "align_content": null,
            "visibility": null,
            "align_self": null,
            "height": null,
            "min_height": null,
            "padding": null,
            "grid_auto_rows": null,
            "grid_gap": null,
            "max_width": null,
            "order": null,
            "_view_module_version": "1.2.0",
            "grid_template_areas": null,
            "object_position": null,
            "object_fit": null,
            "grid_auto_columns": null,
            "margin": null,
            "display": null,
            "left": null
          },
          "model_module_version": "1.2.0"
        },
        "86ae01136c924448bff12bc9248e03b3": {
          "model_module": "@jupyter-widgets/controls",
          "model_name": "HBoxModel",
          "state": {
            "_view_name": "HBoxView",
            "_dom_classes": [],
            "_model_name": "HBoxModel",
            "_view_module": "@jupyter-widgets/controls",
            "_model_module_version": "1.5.0",
            "_view_count": null,
            "_view_module_version": "1.5.0",
            "box_style": "",
            "layout": "IPY_MODEL_b4bef4f7de5a4befbab9c4eb53c7f563",
            "_model_module": "@jupyter-widgets/controls",
            "children": [
              "IPY_MODEL_7fbe08d7da9a40bea3e6127b683a47d1",
              "IPY_MODEL_9fb3ccffb2fa4dd7ba0b2de6006ad7f6"
            ]
          },
          "model_module_version": "1.5.0"
        },
        "b4bef4f7de5a4befbab9c4eb53c7f563": {
          "model_module": "@jupyter-widgets/base",
          "model_name": "LayoutModel",
          "state": {
            "_view_name": "LayoutView",
            "grid_template_rows": null,
            "right": null,
            "justify_content": null,
            "_view_module": "@jupyter-widgets/base",
            "overflow": null,
            "_model_module_version": "1.2.0",
            "_view_count": null,
            "flex_flow": null,
            "width": null,
            "min_width": null,
            "border": null,
            "align_items": null,
            "bottom": null,
            "_model_module": "@jupyter-widgets/base",
            "top": null,
            "grid_column": null,
            "overflow_y": null,
            "overflow_x": null,
            "grid_auto_flow": null,
            "grid_area": null,
            "grid_template_columns": null,
            "flex": null,
            "_model_name": "LayoutModel",
            "justify_items": null,
            "grid_row": null,
            "max_height": null,
            "align_content": null,
            "visibility": null,
            "align_self": null,
            "height": null,
            "min_height": null,
            "padding": null,
            "grid_auto_rows": null,
            "grid_gap": null,
            "max_width": null,
            "order": null,
            "_view_module_version": "1.2.0",
            "grid_template_areas": null,
            "object_position": null,
            "object_fit": null,
            "grid_auto_columns": null,
            "margin": null,
            "display": null,
            "left": null
          },
          "model_module_version": "1.2.0"
        },
        "7fbe08d7da9a40bea3e6127b683a47d1": {
          "model_module": "@jupyter-widgets/controls",
          "model_name": "FloatProgressModel",
          "state": {
            "_view_name": "ProgressView",
            "style": "IPY_MODEL_7713b259507844c2aa1129f7f3fb3e0d",
            "_dom_classes": [],
            "description": "",
            "_model_name": "FloatProgressModel",
            "bar_style": "success",
            "max": 4422102,
            "_view_module": "@jupyter-widgets/controls",
            "_model_module_version": "1.5.0",
            "value": 4422102,
            "_view_count": null,
            "_view_module_version": "1.5.0",
            "orientation": "horizontal",
            "min": 0,
            "description_tooltip": null,
            "_model_module": "@jupyter-widgets/controls",
            "layout": "IPY_MODEL_9cdc87e160e846c8bd5fdb1f86df8738"
          },
          "model_module_version": "1.5.0"
        },
        "9fb3ccffb2fa4dd7ba0b2de6006ad7f6": {
          "model_module": "@jupyter-widgets/controls",
          "model_name": "HTMLModel",
          "state": {
            "_view_name": "HTMLView",
            "style": "IPY_MODEL_90d1cf46f8914acf9a504d6f2aa14d9f",
            "_dom_classes": [],
            "description": "",
            "_model_name": "HTMLModel",
            "placeholder": "​",
            "_view_module": "@jupyter-widgets/controls",
            "_model_module_version": "1.5.0",
            "value": " 4422656/? [00:01&lt;00:00, 2281324.05it/s]",
            "_view_count": null,
            "_view_module_version": "1.5.0",
            "description_tooltip": null,
            "_model_module": "@jupyter-widgets/controls",
            "layout": "IPY_MODEL_eef7a526760640dfb26a4e37b3fa9f63"
          },
          "model_module_version": "1.5.0"
        },
        "7713b259507844c2aa1129f7f3fb3e0d": {
          "model_module": "@jupyter-widgets/controls",
          "model_name": "ProgressStyleModel",
          "state": {
            "_view_name": "StyleView",
            "_model_name": "ProgressStyleModel",
            "description_width": "initial",
            "_view_module": "@jupyter-widgets/base",
            "_model_module_version": "1.5.0",
            "_view_count": null,
            "_view_module_version": "1.2.0",
            "bar_color": null,
            "_model_module": "@jupyter-widgets/controls"
          },
          "model_module_version": "1.5.0"
        },
        "9cdc87e160e846c8bd5fdb1f86df8738": {
          "model_module": "@jupyter-widgets/base",
          "model_name": "LayoutModel",
          "state": {
            "_view_name": "LayoutView",
            "grid_template_rows": null,
            "right": null,
            "justify_content": null,
            "_view_module": "@jupyter-widgets/base",
            "overflow": null,
            "_model_module_version": "1.2.0",
            "_view_count": null,
            "flex_flow": null,
            "width": null,
            "min_width": null,
            "border": null,
            "align_items": null,
            "bottom": null,
            "_model_module": "@jupyter-widgets/base",
            "top": null,
            "grid_column": null,
            "overflow_y": null,
            "overflow_x": null,
            "grid_auto_flow": null,
            "grid_area": null,
            "grid_template_columns": null,
            "flex": null,
            "_model_name": "LayoutModel",
            "justify_items": null,
            "grid_row": null,
            "max_height": null,
            "align_content": null,
            "visibility": null,
            "align_self": null,
            "height": null,
            "min_height": null,
            "padding": null,
            "grid_auto_rows": null,
            "grid_gap": null,
            "max_width": null,
            "order": null,
            "_view_module_version": "1.2.0",
            "grid_template_areas": null,
            "object_position": null,
            "object_fit": null,
            "grid_auto_columns": null,
            "margin": null,
            "display": null,
            "left": null
          },
          "model_module_version": "1.2.0"
        },
        "90d1cf46f8914acf9a504d6f2aa14d9f": {
          "model_module": "@jupyter-widgets/controls",
          "model_name": "DescriptionStyleModel",
          "state": {
            "_view_name": "StyleView",
            "_model_name": "DescriptionStyleModel",
            "description_width": "",
            "_view_module": "@jupyter-widgets/base",
            "_model_module_version": "1.5.0",
            "_view_count": null,
            "_view_module_version": "1.2.0",
            "_model_module": "@jupyter-widgets/controls"
          },
          "model_module_version": "1.5.0"
        },
        "eef7a526760640dfb26a4e37b3fa9f63": {
          "model_module": "@jupyter-widgets/base",
          "model_name": "LayoutModel",
          "state": {
            "_view_name": "LayoutView",
            "grid_template_rows": null,
            "right": null,
            "justify_content": null,
            "_view_module": "@jupyter-widgets/base",
            "overflow": null,
            "_model_module_version": "1.2.0",
            "_view_count": null,
            "flex_flow": null,
            "width": null,
            "min_width": null,
            "border": null,
            "align_items": null,
            "bottom": null,
            "_model_module": "@jupyter-widgets/base",
            "top": null,
            "grid_column": null,
            "overflow_y": null,
            "overflow_x": null,
            "grid_auto_flow": null,
            "grid_area": null,
            "grid_template_columns": null,
            "flex": null,
            "_model_name": "LayoutModel",
            "justify_items": null,
            "grid_row": null,
            "max_height": null,
            "align_content": null,
            "visibility": null,
            "align_self": null,
            "height": null,
            "min_height": null,
            "padding": null,
            "grid_auto_rows": null,
            "grid_gap": null,
            "max_width": null,
            "order": null,
            "_view_module_version": "1.2.0",
            "grid_template_areas": null,
            "object_position": null,
            "object_fit": null,
            "grid_auto_columns": null,
            "margin": null,
            "display": null,
            "left": null
          },
          "model_module_version": "1.2.0"
        },
        "0485c631ad524eac899ff0203ce7b493": {
          "model_module": "@jupyter-widgets/controls",
          "model_name": "HBoxModel",
          "state": {
            "_view_name": "HBoxView",
            "_dom_classes": [],
            "_model_name": "HBoxModel",
            "_view_module": "@jupyter-widgets/controls",
            "_model_module_version": "1.5.0",
            "_view_count": null,
            "_view_module_version": "1.5.0",
            "box_style": "",
            "layout": "IPY_MODEL_214491a93cb7475585b7d934274895e8",
            "_model_module": "@jupyter-widgets/controls",
            "children": [
              "IPY_MODEL_2df698900dc7431b9800aa66396ceb55",
              "IPY_MODEL_60c4c21e7f1a4512b1e3e177bfd9dfe5"
            ]
          },
          "model_module_version": "1.5.0"
        },
        "214491a93cb7475585b7d934274895e8": {
          "model_module": "@jupyter-widgets/base",
          "model_name": "LayoutModel",
          "state": {
            "_view_name": "LayoutView",
            "grid_template_rows": null,
            "right": null,
            "justify_content": null,
            "_view_module": "@jupyter-widgets/base",
            "overflow": null,
            "_model_module_version": "1.2.0",
            "_view_count": null,
            "flex_flow": null,
            "width": null,
            "min_width": null,
            "border": null,
            "align_items": null,
            "bottom": null,
            "_model_module": "@jupyter-widgets/base",
            "top": null,
            "grid_column": null,
            "overflow_y": null,
            "overflow_x": null,
            "grid_auto_flow": null,
            "grid_area": null,
            "grid_template_columns": null,
            "flex": null,
            "_model_name": "LayoutModel",
            "justify_items": null,
            "grid_row": null,
            "max_height": null,
            "align_content": null,
            "visibility": null,
            "align_self": null,
            "height": null,
            "min_height": null,
            "padding": null,
            "grid_auto_rows": null,
            "grid_gap": null,
            "max_width": null,
            "order": null,
            "_view_module_version": "1.2.0",
            "grid_template_areas": null,
            "object_position": null,
            "object_fit": null,
            "grid_auto_columns": null,
            "margin": null,
            "display": null,
            "left": null
          },
          "model_module_version": "1.2.0"
        },
        "2df698900dc7431b9800aa66396ceb55": {
          "model_module": "@jupyter-widgets/controls",
          "model_name": "FloatProgressModel",
          "state": {
            "_view_name": "ProgressView",
            "style": "IPY_MODEL_13d691e469184b0a97d688a1266f7f21",
            "_dom_classes": [],
            "description": "",
            "_model_name": "FloatProgressModel",
            "bar_style": "success",
            "max": 5148,
            "_view_module": "@jupyter-widgets/controls",
            "_model_module_version": "1.5.0",
            "value": 5148,
            "_view_count": null,
            "_view_module_version": "1.5.0",
            "orientation": "horizontal",
            "min": 0,
            "description_tooltip": null,
            "_model_module": "@jupyter-widgets/controls",
            "layout": "IPY_MODEL_72199efbae334dbe8e96f09a71201bdc"
          },
          "model_module_version": "1.5.0"
        },
        "60c4c21e7f1a4512b1e3e177bfd9dfe5": {
          "model_module": "@jupyter-widgets/controls",
          "model_name": "HTMLModel",
          "state": {
            "_view_name": "HTMLView",
            "style": "IPY_MODEL_ebf9dc93338e4244803084cbec84502d",
            "_dom_classes": [],
            "description": "",
            "_model_name": "HTMLModel",
            "placeholder": "​",
            "_view_module": "@jupyter-widgets/controls",
            "_model_module_version": "1.5.0",
            "value": " 6144/? [13:20&lt;00:00,  7.67it/s]",
            "_view_count": null,
            "_view_module_version": "1.5.0",
            "description_tooltip": null,
            "_model_module": "@jupyter-widgets/controls",
            "layout": "IPY_MODEL_2281f3fc6023455bafb22da55a722cbc"
          },
          "model_module_version": "1.5.0"
        },
        "13d691e469184b0a97d688a1266f7f21": {
          "model_module": "@jupyter-widgets/controls",
          "model_name": "ProgressStyleModel",
          "state": {
            "_view_name": "StyleView",
            "_model_name": "ProgressStyleModel",
            "description_width": "initial",
            "_view_module": "@jupyter-widgets/base",
            "_model_module_version": "1.5.0",
            "_view_count": null,
            "_view_module_version": "1.2.0",
            "bar_color": null,
            "_model_module": "@jupyter-widgets/controls"
          },
          "model_module_version": "1.5.0"
        },
        "72199efbae334dbe8e96f09a71201bdc": {
          "model_module": "@jupyter-widgets/base",
          "model_name": "LayoutModel",
          "state": {
            "_view_name": "LayoutView",
            "grid_template_rows": null,
            "right": null,
            "justify_content": null,
            "_view_module": "@jupyter-widgets/base",
            "overflow": null,
            "_model_module_version": "1.2.0",
            "_view_count": null,
            "flex_flow": null,
            "width": null,
            "min_width": null,
            "border": null,
            "align_items": null,
            "bottom": null,
            "_model_module": "@jupyter-widgets/base",
            "top": null,
            "grid_column": null,
            "overflow_y": null,
            "overflow_x": null,
            "grid_auto_flow": null,
            "grid_area": null,
            "grid_template_columns": null,
            "flex": null,
            "_model_name": "LayoutModel",
            "justify_items": null,
            "grid_row": null,
            "max_height": null,
            "align_content": null,
            "visibility": null,
            "align_self": null,
            "height": null,
            "min_height": null,
            "padding": null,
            "grid_auto_rows": null,
            "grid_gap": null,
            "max_width": null,
            "order": null,
            "_view_module_version": "1.2.0",
            "grid_template_areas": null,
            "object_position": null,
            "object_fit": null,
            "grid_auto_columns": null,
            "margin": null,
            "display": null,
            "left": null
          },
          "model_module_version": "1.2.0"
        },
        "ebf9dc93338e4244803084cbec84502d": {
          "model_module": "@jupyter-widgets/controls",
          "model_name": "DescriptionStyleModel",
          "state": {
            "_view_name": "StyleView",
            "_model_name": "DescriptionStyleModel",
            "description_width": "",
            "_view_module": "@jupyter-widgets/base",
            "_model_module_version": "1.5.0",
            "_view_count": null,
            "_view_module_version": "1.2.0",
            "_model_module": "@jupyter-widgets/controls"
          },
          "model_module_version": "1.5.0"
        },
        "2281f3fc6023455bafb22da55a722cbc": {
          "model_module": "@jupyter-widgets/base",
          "model_name": "LayoutModel",
          "state": {
            "_view_name": "LayoutView",
            "grid_template_rows": null,
            "right": null,
            "justify_content": null,
            "_view_module": "@jupyter-widgets/base",
            "overflow": null,
            "_model_module_version": "1.2.0",
            "_view_count": null,
            "flex_flow": null,
            "width": null,
            "min_width": null,
            "border": null,
            "align_items": null,
            "bottom": null,
            "_model_module": "@jupyter-widgets/base",
            "top": null,
            "grid_column": null,
            "overflow_y": null,
            "overflow_x": null,
            "grid_auto_flow": null,
            "grid_area": null,
            "grid_template_columns": null,
            "flex": null,
            "_model_name": "LayoutModel",
            "justify_items": null,
            "grid_row": null,
            "max_height": null,
            "align_content": null,
            "visibility": null,
            "align_self": null,
            "height": null,
            "min_height": null,
            "padding": null,
            "grid_auto_rows": null,
            "grid_gap": null,
            "max_width": null,
            "order": null,
            "_view_module_version": "1.2.0",
            "grid_template_areas": null,
            "object_position": null,
            "object_fit": null,
            "grid_auto_columns": null,
            "margin": null,
            "display": null,
            "left": null
          },
          "model_module_version": "1.2.0"
        }
      }
    }
  },
  "cells": [
    {
      "cell_type": "markdown",
      "metadata": {
        "id": "PAkBSdTvq0Cr"
      },
      "source": [
        "<img src='http://sn.nexteinstein.org/wp-content/uploads/sites/12/2016/07/aims_senegal.jpg' />"
      ]
    },
    {
      "cell_type": "markdown",
      "metadata": {
        "id": "TSBZZYqgq2Su"
      },
      "source": [
        "In this notebook you will implement and train a feed-forward neural network using the torch.nn module to solve a multi-class classification problem on a dataset called \"Fashion MNIST\".\n",
        "\n",
        "---\n",
        "\n",
        "***Learning Objectives:***\n",
        "\n",
        "* Understand how to use Pytorch nn module and the sequential container to build a neural network architecture.\n",
        "\n",
        "\n",
        "* Understand how a model is trained using the opitm module and the Autgrad engine and How to evaluate your model.\n",
        "\n",
        "---\n",
        "\n",
        "**Resources that you need to cover before starting**:\n",
        "\n",
        "* Review the Tutorial Notebook.\n",
        "\n",
        "* Read the torch.nn docs: https://pytorch.org/docs/stable/nn.html\n",
        "\n",
        "* Read the article about moving from computing gradient from scratch to useing torch.nn https://pytorch.org/tutorials/beginner/nn_tutorial.html\n",
        "\n",
        "* Read the pytorch offical tutorial on training multi-class classifiers:\n",
        "https://pytorch.org/tutorials/beginner/blitz/cifar10_tutorial.html"
      ]
    },
    {
      "cell_type": "markdown",
      "metadata": {
        "id": "i4ngU0vOrd68"
      },
      "source": [
        "# Setup code (Read first But Don't modify)"
      ]
    },
    {
      "cell_type": "code",
      "metadata": {
        "id": "NljcxD0Estne"
      },
      "source": [
        "import torch\n",
        "import torch.nn as nn\n",
        "import torch.nn.functional as F\n",
        "import torch.optim as optim\n",
        "\n",
        "import torchvision\n",
        "import torchvision.datasets as datasets\n",
        "\n",
        "import matplotlib.pyplot as plt\n",
        "%matplotlib inline"
      ],
      "execution_count": null,
      "outputs": []
    },
    {
      "cell_type": "markdown",
      "metadata": {
        "id": "MygxOwpX-H4f"
      },
      "source": [
        "\n",
        "\n",
        "---\n",
        "\n"
      ]
    },
    {
      "cell_type": "markdown",
      "metadata": {
        "id": "BQKtRDqBz3gT"
      },
      "source": [
        "#### Loading the Data: \n",
        "\n",
        "We will use the Fashion MNIST dataset consisting of 70,000 greyscale images of shape(28x28 flattened to have shape 784) and their labels.\n",
        "\n",
        "The dataset is divided into 60,000 training images and 10,000 test images. The idea is to train a classifier to identify the class value (what type of fashion item it is) given the image (total of **10** classes).\n",
        "\n",
        "We will split the training data into 50,000 training images used to train a model on it, and 10,000 validation images used to tune your choice of hyperparams and model architecture.\n",
        "\n",
        "The last step is to evaluate how well your model classifies the 10,000 test images (will be used to assess your implementation).\n",
        "\n",
        "\n",
        "**The classes are: ['T-shirt/top', 'Trouser', 'Pullover', 'Dress', 'Coat', 'Sandal', 'Shirt', 'Sneaker', 'Bag', 'Ankle boot']**\n",
        "\n",
        "This is how the 10 class images looks like before flattening it:\n",
        "\n",
        "<img src='https://www.googleapis.com/download/storage/v1/b/kaggle-user-content/o/inbox%2F549262%2Fd6f4f6e13fa211c9e773479566d89ac9%2FExample-for-fashion-MNIST-Each-class-is-represented-by-nine-cases.png?generation=1576784453715625&alt=media' />"
      ]
    },
    {
      "cell_type": "markdown",
      "metadata": {
        "id": "JyVLHX__-Jws"
      },
      "source": [
        "\n",
        "\n",
        "---\n",
        "\n"
      ]
    },
    {
      "cell_type": "code",
      "metadata": {
        "id": "mX1jXWxtweco"
      },
      "source": [
        "#get the data\n",
        "\n",
        "def load_data():\n",
        "\n",
        "  #using the dataset module from torchvision\n",
        "  mnist_train_set = datasets.FashionMNIST('data/fashiomnist/', train = True, download = True)\n",
        "  mnist_test_set = datasets.FashionMNIST('data/fashiomnist/', train = False, download = True)\n",
        "\n",
        "  #train data\n",
        "  train_images = mnist_train_set.data.view(-1, 1, 28, 28).float()\n",
        "  train_targets = mnist_train_set.targets\n",
        "\n",
        "  #test data\n",
        "  test_images = mnist_test_set.data.view(-1, 1, 28, 28).float()\n",
        "  y_test = mnist_test_set.targets\n",
        "\n",
        "  #flatten\n",
        "  train_val_input = train_images.clone().reshape(train_images.size(0), -1)/255.0\n",
        "  x_test = test_images.clone().reshape(test_images.size(0), -1)/255.0\n",
        "\n",
        "  # shuffle\n",
        "  N = train_val_input.shape[0]\n",
        "  index = torch.randperm(N)\n",
        "\n",
        "  #train val split\n",
        "  x_train = train_val_input[index][:50000]\n",
        "  y_train = train_targets[index][:50000]\n",
        "\n",
        "  x_val = train_val_input[index][50000:]\n",
        "  y_val = train_targets[index][50000:]\n",
        "\n",
        "  return x_train, y_train, x_val, y_val, x_test, y_test"
      ],
      "execution_count": null,
      "outputs": []
    },
    {
      "cell_type": "code",
      "metadata": {
        "id": "cmO0FsLnYxpJ",
        "colab": {
          "base_uri": "https://localhost:8080/",
          "height": 437,
          "referenced_widgets": [
            "459baed5a14845d7b47cfaad7aa25611",
            "962af8240b1344d284c83d9958dd32bd",
            "962ceac5f0524155aa92971550b252b1",
            "e06070f8b20c4a639f503b35972e3122",
            "ec3c0d51659f4fd4b4983fb9085ec673",
            "9387d44e4f1d415586afffa3633e1e4f",
            "a39d371715384ceb8d2782b557f94c53",
            "76fceb81a7f34ba4ab865c00f385e7b7",
            "69ca82fa57c54a619969c4c6460f4c4a",
            "80ccc66fefbb4a1899b437219e85b823",
            "1ce988a041bb4baab827728330e9ad30",
            "fc11e5646ef6452cae6b2a7e1eb3c366",
            "c0ef31ab2e004128827f8dc46e143c02",
            "96c9450ee9f541c4be065f06ff38b5cc",
            "1a171f2d6f734c56aee607629834e1db",
            "7752fcc90d4642f4960a465c206c4325",
            "86ae01136c924448bff12bc9248e03b3",
            "b4bef4f7de5a4befbab9c4eb53c7f563",
            "7fbe08d7da9a40bea3e6127b683a47d1",
            "9fb3ccffb2fa4dd7ba0b2de6006ad7f6",
            "7713b259507844c2aa1129f7f3fb3e0d",
            "9cdc87e160e846c8bd5fdb1f86df8738",
            "90d1cf46f8914acf9a504d6f2aa14d9f",
            "eef7a526760640dfb26a4e37b3fa9f63",
            "0485c631ad524eac899ff0203ce7b493",
            "214491a93cb7475585b7d934274895e8",
            "2df698900dc7431b9800aa66396ceb55",
            "60c4c21e7f1a4512b1e3e177bfd9dfe5",
            "13d691e469184b0a97d688a1266f7f21",
            "72199efbae334dbe8e96f09a71201bdc",
            "ebf9dc93338e4244803084cbec84502d",
            "2281f3fc6023455bafb22da55a722cbc"
          ]
        },
        "outputId": "3749abaf-fcc6-43ff-ea09-98cade06f01c"
      },
      "source": [
        "x_train, y_train, x_val, y_val, _, __ = load_data()"
      ],
      "execution_count": null,
      "outputs": [
        {
          "output_type": "stream",
          "text": [
            "Downloading http://fashion-mnist.s3-website.eu-central-1.amazonaws.com/train-images-idx3-ubyte.gz to data/fashiomnist/FashionMNIST/raw/train-images-idx3-ubyte.gz\n"
          ],
          "name": "stdout"
        },
        {
          "output_type": "display_data",
          "data": {
            "application/vnd.jupyter.widget-view+json": {
              "model_id": "459baed5a14845d7b47cfaad7aa25611",
              "version_minor": 0,
              "version_major": 2
            },
            "text/plain": [
              "HBox(children=(FloatProgress(value=0.0, max=26421880.0), HTML(value='')))"
            ]
          },
          "metadata": {
            "tags": []
          }
        },
        {
          "output_type": "stream",
          "text": [
            "\n",
            "Extracting data/fashiomnist/FashionMNIST/raw/train-images-idx3-ubyte.gz to data/fashiomnist/FashionMNIST/raw\n",
            "Downloading http://fashion-mnist.s3-website.eu-central-1.amazonaws.com/train-labels-idx1-ubyte.gz to data/fashiomnist/FashionMNIST/raw/train-labels-idx1-ubyte.gz\n"
          ],
          "name": "stdout"
        },
        {
          "output_type": "display_data",
          "data": {
            "application/vnd.jupyter.widget-view+json": {
              "model_id": "69ca82fa57c54a619969c4c6460f4c4a",
              "version_minor": 0,
              "version_major": 2
            },
            "text/plain": [
              "HBox(children=(FloatProgress(value=0.0, max=29515.0), HTML(value='')))"
            ]
          },
          "metadata": {
            "tags": []
          }
        },
        {
          "output_type": "stream",
          "text": [
            "\n",
            "Extracting data/fashiomnist/FashionMNIST/raw/train-labels-idx1-ubyte.gz to data/fashiomnist/FashionMNIST/raw\n",
            "Downloading http://fashion-mnist.s3-website.eu-central-1.amazonaws.com/t10k-images-idx3-ubyte.gz to data/fashiomnist/FashionMNIST/raw/t10k-images-idx3-ubyte.gz\n"
          ],
          "name": "stdout"
        },
        {
          "output_type": "display_data",
          "data": {
            "application/vnd.jupyter.widget-view+json": {
              "model_id": "86ae01136c924448bff12bc9248e03b3",
              "version_minor": 0,
              "version_major": 2
            },
            "text/plain": [
              "HBox(children=(FloatProgress(value=0.0, max=4422102.0), HTML(value='')))"
            ]
          },
          "metadata": {
            "tags": []
          }
        },
        {
          "output_type": "stream",
          "text": [
            "\n",
            "Extracting data/fashiomnist/FashionMNIST/raw/t10k-images-idx3-ubyte.gz to data/fashiomnist/FashionMNIST/raw\n",
            "Downloading http://fashion-mnist.s3-website.eu-central-1.amazonaws.com/t10k-labels-idx1-ubyte.gz to data/fashiomnist/FashionMNIST/raw/t10k-labels-idx1-ubyte.gz\n"
          ],
          "name": "stdout"
        },
        {
          "output_type": "display_data",
          "data": {
            "application/vnd.jupyter.widget-view+json": {
              "model_id": "0485c631ad524eac899ff0203ce7b493",
              "version_minor": 0,
              "version_major": 2
            },
            "text/plain": [
              "HBox(children=(FloatProgress(value=0.0, max=5148.0), HTML(value='')))"
            ]
          },
          "metadata": {
            "tags": []
          }
        },
        {
          "output_type": "stream",
          "text": [
            "\n",
            "Extracting data/fashiomnist/FashionMNIST/raw/t10k-labels-idx1-ubyte.gz to data/fashiomnist/FashionMNIST/raw\n",
            "Processing...\n",
            "Done!\n"
          ],
          "name": "stdout"
        },
        {
          "output_type": "stream",
          "text": [
            "/usr/local/lib/python3.7/dist-packages/torchvision/datasets/mnist.py:479: UserWarning: The given NumPy array is not writeable, and PyTorch does not support non-writeable tensors. This means you can write to the underlying (supposedly non-writeable) NumPy array using the tensor. You may want to copy the array to protect its data or make it writeable before converting it to a tensor. This type of warning will be suppressed for the rest of this program. (Triggered internally at  /pytorch/torch/csrc/utils/tensor_numpy.cpp:143.)\n",
            "  return torch.from_numpy(parsed.astype(m[2], copy=False)).view(*s)\n"
          ],
          "name": "stderr"
        }
      ]
    },
    {
      "cell_type": "code",
      "metadata": {
        "id": "iHajRlnh8ZBe",
        "colab": {
          "base_uri": "https://localhost:8080/"
        },
        "outputId": "42942147-27c4-4e75-ed5c-0e753efed326"
      },
      "source": [
        "print('train data shape: ', x_train.shape)\n",
        "print('train targets shape: ', y_train.shape)\n",
        "print(' ')\n",
        "print('validation data shape: ', x_val.shape)\n",
        "print('Validation targets shape: ', y_val.shape)"
      ],
      "execution_count": null,
      "outputs": [
        {
          "output_type": "stream",
          "text": [
            "train data shape:  torch.Size([50000, 784])\n",
            "train targets shape:  torch.Size([50000])\n",
            " \n",
            "validation data shape:  torch.Size([10000, 784])\n",
            "Validation targets shape:  torch.Size([10000])\n"
          ],
          "name": "stdout"
        }
      ]
    },
    {
      "cell_type": "markdown",
      "metadata": {
        "id": "1qVF8ZdO-MkE"
      },
      "source": [
        "\n",
        "\n",
        "---\n",
        "\n",
        "\n",
        "\n",
        "---\n",
        "\n"
      ]
    },
    {
      "cell_type": "markdown",
      "metadata": {
        "id": "ZpfIjcho6PIV"
      },
      "source": [
        "#### We will be using gpus to accelerate the training. make sure to change your runtime to use a *gpu*.\n",
        "\n",
        "#### go to Runtime ===> Change Runtime Type ===> Hardware accelerator ===> choose (GPU)\n"
      ]
    },
    {
      "cell_type": "code",
      "metadata": {
        "id": "GA5llWY9te4E",
        "colab": {
          "base_uri": "https://localhost:8080/"
        },
        "outputId": "019eb158-1af5-49c2-cb4b-3bca37c28573"
      },
      "source": [
        "if torch.cuda.is_available():\n",
        "  device = torch.device('cuda:0')\n",
        "else:\n",
        "  device = torch.device('cpu')\n",
        "  \n",
        "print('using device:', device)"
      ],
      "execution_count": null,
      "outputs": [
        {
          "output_type": "stream",
          "text": [
            "using device: cuda:0\n"
          ],
          "name": "stdout"
        }
      ]
    },
    {
      "cell_type": "markdown",
      "metadata": {
        "id": "HZgAMtBSZHqA"
      },
      "source": [
        "Note that every tensor in pytorch has a **.device** attribute By default it's set to 'cpu' But it can be changed to 'gpu' using the **'.to'** command:"
      ]
    },
    {
      "cell_type": "code",
      "metadata": {
        "id": "La4h7iZnZbiR",
        "colab": {
          "base_uri": "https://localhost:8080/"
        },
        "outputId": "9c42d671-f5c6-4932-d06d-d4dc05ecd34c"
      },
      "source": [
        "# toy example \n",
        "a = torch.rand(2,3)\n",
        "print(a.device) # by default it's 'cpu'\n",
        "\n",
        "a = a.to(device = device)\n",
        "print(a.device) # should print 'cuda:0'"
      ],
      "execution_count": null,
      "outputs": [
        {
          "output_type": "stream",
          "text": [
            "cpu\n",
            "cuda:0\n"
          ],
          "name": "stdout"
        }
      ]
    },
    {
      "cell_type": "markdown",
      "metadata": {
        "id": "NN2tXNtr9-vX"
      },
      "source": [
        "---\n",
        "---\n",
        "---\n",
        "---\n",
        "---"
      ]
    },
    {
      "cell_type": "markdown",
      "metadata": {
        "id": "Zk-ExNrjaAU5"
      },
      "source": [
        "Now it's your turn to define a model using the **torch.nn.Sequential** container module.\n",
        "\n",
        "Your model should accept an input of shape D = 784 and output 10 numbers represent the probability of belonging to each class.\n",
        "\n",
        "ideally a good model will have at least one hidden layer (or more) followed by non-linear activation functions like (nn.ReLU, nn.Sigmoid ... etc) \n",
        "\n",
        "\n",
        "you can take some help from the docs: \n",
        "https://pytorch.org/docs/stable/generated/torch.nn.Sequential.html "
      ]
    },
    {
      "cell_type": "code",
      "metadata": {
        "id": "2IqWt4DHtf_O"
      },
      "source": [
        "# define a neural network model using the nn.Sequential container\n",
        "\n",
        "D = x_train.shape[1]\n",
        "n_classes = 10\n",
        "H1 = 100\n",
        "H2 = 100\n",
        "H3 = 200\n",
        "\n",
        "model = nn.Sequential(\n",
        "    nn.Linear(D, H1),\n",
        "    nn.ReLU(),\n",
        "    nn.Linear(H1, H2),\n",
        "    nn.ReLU(),\n",
        "    nn.Linear(H2, H3),\n",
        "    nn.ReLU(),\n",
        "    nn.Linear(H3, n_classes)\n",
        "    #your code should be here  \n",
        "\n",
        ")"
      ],
      "execution_count": null,
      "outputs": []
    },
    {
      "cell_type": "code",
      "metadata": {
        "id": "e7-cOz-vcKM0",
        "colab": {
          "base_uri": "https://localhost:8080/"
        },
        "outputId": "1bd7c9eb-561a-4d3a-e6f1-21054acd57f0"
      },
      "source": [
        "print(model) #Run this when you finish defining your model"
      ],
      "execution_count": null,
      "outputs": [
        {
          "output_type": "stream",
          "text": [
            "Sequential(\n",
            "  (0): Linear(in_features=784, out_features=100, bias=True)\n",
            "  (1): ReLU()\n",
            "  (2): Linear(in_features=100, out_features=100, bias=True)\n",
            "  (3): ReLU()\n",
            "  (4): Linear(in_features=100, out_features=200, bias=True)\n",
            "  (5): ReLU()\n",
            "  (6): Linear(in_features=200, out_features=10, bias=True)\n",
            ")\n"
          ],
          "name": "stdout"
        }
      ]
    },
    {
      "cell_type": "code",
      "metadata": {
        "id": "h4NkC5mRb-go"
      },
      "source": [
        "#Run This cell\n",
        "# it's important to transfer your model to the gpu for faster computations\n",
        "\n",
        "model = model.to(device=device)"
      ],
      "execution_count": null,
      "outputs": []
    },
    {
      "cell_type": "markdown",
      "metadata": {
        "id": "_0hV6tQTcVNt"
      },
      "source": [
        "\n",
        "\n",
        "---\n",
        "\n",
        "\n",
        "---\n",
        "\n",
        "\n",
        "\n",
        "---\n",
        "\n",
        "\n",
        "\n",
        "\n",
        "---\n",
        "\n",
        "\n",
        "\n",
        "---\n",
        "\n"
      ]
    },
    {
      "cell_type": "markdown",
      "metadata": {
        "id": "snZysKgKcekB"
      },
      "source": [
        "Now that we have our model and data ready, we need to train it: \n",
        "\n",
        "But in order to do that we need to define our loss function:\n",
        "\n",
        "luckly pytorch has most loss functions already implemented, for multi-class classification problems, we will be using the cross entroy loss which is basically computing the log softmax of an input followed by computing the negative log liklihood loss.\n",
        "\n",
        "read this for more info on the cross entropy loss: https://en.wikipedia.org/wiki/Cross_entropy\n",
        "\n",
        "also check the pytorch definition of it: https://pytorch.org/docs/stable/generated/torch.nn.CrossEntropyLoss.html (**important**)"
      ]
    },
    {
      "cell_type": "code",
      "metadata": {
        "id": "lM_r6ITEwfov"
      },
      "source": [
        "#run this cell\n",
        "\n",
        "criterion = nn.CrossEntropyLoss()"
      ],
      "execution_count": null,
      "outputs": []
    },
    {
      "cell_type": "markdown",
      "metadata": {
        "id": "QVQiq0zveZQj"
      },
      "source": [
        "\n",
        "\n",
        "---\n",
        "\n",
        "\n",
        "\n",
        "---\n",
        "\n",
        "\n",
        "\n",
        "\n",
        "\n",
        "---\n",
        "\n",
        "\n",
        "\n",
        "---\n",
        "\n",
        "\n",
        "\n",
        "---\n",
        "\n"
      ]
    },
    {
      "cell_type": "markdown",
      "metadata": {
        "id": "ce7Wdomjejk9"
      },
      "source": [
        "Another important step in training any model is to update it's weights and biases, and for that we need an optimization algorithm like Gradient decsent, Luckily in pytorch most optimization algorithms are implemented in the torch.optim module, and for this assignment we will be using the optim.SGD But you are free to look into more optim in the doc: https://pytorch.org/docs/stable/optim.html.\n",
        "\n",
        "You need to find suitable values for the learning rate and the momentum value"
      ]
    },
    {
      "cell_type": "code",
      "metadata": {
        "id": "73N2vqTWd_iC"
      },
      "source": [
        "learning_rate = 0.001    # to be set\n",
        "momentum_value = 0.9  # to be set\n",
        "\n",
        "optimizer = optim.SGD(model.parameters(), lr = learning_rate, momentum = momentum_value)"
      ],
      "execution_count": null,
      "outputs": []
    },
    {
      "cell_type": "markdown",
      "metadata": {
        "id": "Io1LkA5Ufzpp"
      },
      "source": [
        "\n",
        "\n",
        "\n",
        "---\n",
        "\n",
        "\n",
        "\n",
        "---\n",
        "\n",
        "\n",
        "\n",
        "---\n",
        "\n",
        "\n",
        "---\n",
        "\n",
        "\n",
        "\n",
        "---\n",
        "\n"
      ]
    },
    {
      "cell_type": "markdown",
      "metadata": {
        "id": "L0Q9c1eaf3IY"
      },
      "source": [
        "# Now that we have all things set, let's train our model using Automatic differentaition from pytorch. "
      ]
    },
    {
      "cell_type": "code",
      "metadata": {
        "id": "pIUCO2XAwfr2"
      },
      "source": [
        "batch_size =   32           #set your batch size "
      ],
      "execution_count": null,
      "outputs": []
    },
    {
      "cell_type": "code",
      "metadata": {
        "id": "NUa8WLW1gO8k"
      },
      "source": [
        "#Run this cell \n",
        "# it wil set the number of batches for mini batch SGD\n",
        "\n",
        "N = x_train.shape[0]\n",
        "\n",
        "if N % batch_size == 0:\n",
        "  n_batches = int(N / batch_size)\n",
        "else:\n",
        "  n_batches = int(N / batch_size) + 1"
      ],
      "execution_count": null,
      "outputs": []
    },
    {
      "cell_type": "markdown",
      "metadata": {
        "id": "ARNONOwUguAl"
      },
      "source": [
        "\n",
        "\n",
        "---\n",
        "\n",
        "---\n",
        "\n",
        "\n",
        "\n",
        "---\n",
        "\n",
        "\n",
        "\n",
        "---\n",
        "\n",
        "\n",
        "\n"
      ]
    },
    {
      "cell_type": "markdown",
      "metadata": {
        "id": "I1MbG4fFgwBy"
      },
      "source": [
        "# Main Training loop\n",
        "### ToDo: fill in the missing steps\n"
      ]
    },
    {
      "cell_type": "code",
      "metadata": {
        "id": "D5Gd17hRwfvA",
        "colab": {
          "base_uri": "https://localhost:8080/"
        },
        "outputId": "5a5a6c65-7543-4515-8307-e1a6f4f07eff"
      },
      "source": [
        "n_epochs =  100   # set the number of epochs\n",
        "losses = []\n",
        "\n",
        "for epoch in range(n_epochs):\n",
        "  \n",
        "  epoch_loss = 0\n",
        "  \n",
        "  for batch in range(n_batches):\n",
        "    \n",
        "    start = batch * batch_size\n",
        "    end = start + batch_size\n",
        "\n",
        "    train_images = x_train[start:end]\n",
        "    train_labels = y_train[start:end]\n",
        "\n",
        "    train_images =  train_images.to(device = device)      # change the device of train_images to gpu\n",
        "    train_labels =  train_labels.to(device = device)      # change the device of train_labels to gpu\n",
        "\n",
        "    outputs =  model(train_images)     # feed the images totrain_labels the model to get the outputs\n",
        "\n",
        "    loss =  criterion(outputs, train_labels)        # compute the loss using the criterion we defined\n",
        "    \n",
        "    epoch_loss += loss.item()\n",
        "\n",
        "    \n",
        "\n",
        "    # compute the gradient for each weight/bias from the loss\n",
        "    loss.backward()\n",
        "\n",
        "    # update the model parameters\n",
        "    optimizer.step()\n",
        "\n",
        "    # zero the grad\n",
        "    optimizer.zero_grad()\n",
        "\n",
        "  epoch_loss = epoch_loss/N\n",
        "\n",
        "  print('epoch ==> ', epoch, 'loss ==> ', epoch_loss)\n",
        "\n",
        "  losses.append(epoch_loss)"
      ],
      "execution_count": null,
      "outputs": [
        {
          "output_type": "stream",
          "text": [
            "epoch ==>  0 loss ==>  0.04639763226509094\n",
            "epoch ==>  1 loss ==>  0.02191739753484726\n",
            "epoch ==>  2 loss ==>  0.01754047822088003\n",
            "epoch ==>  3 loss ==>  0.015569515834748745\n",
            "epoch ==>  4 loss ==>  0.014491410023123026\n",
            "epoch ==>  5 loss ==>  0.013751311830878257\n",
            "epoch ==>  6 loss ==>  0.01317584474042058\n",
            "epoch ==>  7 loss ==>  0.012701156305670739\n",
            "epoch ==>  8 loss ==>  0.012295316808074712\n",
            "epoch ==>  9 loss ==>  0.011926629020422698\n",
            "epoch ==>  10 loss ==>  0.011592676412314177\n",
            "epoch ==>  11 loss ==>  0.011288144697099925\n",
            "epoch ==>  12 loss ==>  0.01100428120970726\n",
            "epoch ==>  13 loss ==>  0.010738133146166801\n",
            "epoch ==>  14 loss ==>  0.010489970911741257\n",
            "epoch ==>  15 loss ==>  0.010258156094104052\n",
            "epoch ==>  16 loss ==>  0.010046633964031935\n",
            "epoch ==>  17 loss ==>  0.009846163635700941\n",
            "epoch ==>  18 loss ==>  0.009654427356645465\n",
            "epoch ==>  19 loss ==>  0.009466164528802038\n",
            "epoch ==>  20 loss ==>  0.009291229558736087\n",
            "epoch ==>  21 loss ==>  0.009116606802195311\n",
            "epoch ==>  22 loss ==>  0.008958969952464103\n",
            "epoch ==>  23 loss ==>  0.008804142508506774\n",
            "epoch ==>  24 loss ==>  0.00866442850008607\n",
            "epoch ==>  25 loss ==>  0.00852598619773984\n",
            "epoch ==>  26 loss ==>  0.008388294768929482\n",
            "epoch ==>  27 loss ==>  0.008257619888857008\n",
            "epoch ==>  28 loss ==>  0.008131948239952325\n",
            "epoch ==>  29 loss ==>  0.008006497455388308\n",
            "epoch ==>  30 loss ==>  0.007883273832201958\n",
            "epoch ==>  31 loss ==>  0.00776966471798718\n",
            "epoch ==>  32 loss ==>  0.007646528735533357\n",
            "epoch ==>  33 loss ==>  0.007535157285928726\n",
            "epoch ==>  34 loss ==>  0.007418811489716172\n",
            "epoch ==>  35 loss ==>  0.007312356903403997\n",
            "epoch ==>  36 loss ==>  0.007208417011164129\n",
            "epoch ==>  37 loss ==>  0.0071137587817013265\n",
            "epoch ==>  38 loss ==>  0.0070156468760222196\n",
            "epoch ==>  39 loss ==>  0.006923424794860184\n",
            "epoch ==>  40 loss ==>  0.006823880845718086\n",
            "epoch ==>  41 loss ==>  0.0067325414563715455\n",
            "epoch ==>  42 loss ==>  0.006632064200993627\n",
            "epoch ==>  43 loss ==>  0.006542576279491186\n",
            "epoch ==>  44 loss ==>  0.006458968432433904\n",
            "epoch ==>  45 loss ==>  0.006384828473553062\n",
            "epoch ==>  46 loss ==>  0.006296385404895991\n",
            "epoch ==>  47 loss ==>  0.006217397939749062\n",
            "epoch ==>  48 loss ==>  0.006133151719495654\n",
            "epoch ==>  49 loss ==>  0.006066373441359028\n",
            "epoch ==>  50 loss ==>  0.005979821104239672\n",
            "epoch ==>  51 loss ==>  0.005904446943150833\n",
            "epoch ==>  52 loss ==>  0.0058392380097974095\n",
            "epoch ==>  53 loss ==>  0.005766356768775732\n",
            "epoch ==>  54 loss ==>  0.005679637468485162\n",
            "epoch ==>  55 loss ==>  0.005606596753038466\n",
            "epoch ==>  56 loss ==>  0.005534374002674595\n",
            "epoch ==>  57 loss ==>  0.00546929456576705\n",
            "epoch ==>  58 loss ==>  0.005404217058159411\n",
            "epoch ==>  59 loss ==>  0.005339227342614904\n",
            "epoch ==>  60 loss ==>  0.005279698848240077\n",
            "epoch ==>  61 loss ==>  0.005200463822092861\n",
            "epoch ==>  62 loss ==>  0.00513030491722282\n",
            "epoch ==>  63 loss ==>  0.005060432657827623\n",
            "epoch ==>  64 loss ==>  0.005000952666699887\n",
            "epoch ==>  65 loss ==>  0.00494960316550918\n",
            "epoch ==>  66 loss ==>  0.00486623745014891\n",
            "epoch ==>  67 loss ==>  0.004798649028348737\n",
            "epoch ==>  68 loss ==>  0.004738363807247951\n",
            "epoch ==>  69 loss ==>  0.004653463043468073\n",
            "epoch ==>  70 loss ==>  0.0045958630274562165\n",
            "epoch ==>  71 loss ==>  0.004537105805552564\n",
            "epoch ==>  72 loss ==>  0.00447640260677319\n",
            "epoch ==>  73 loss ==>  0.004433443867592141\n",
            "epoch ==>  74 loss ==>  0.00437494867884554\n",
            "epoch ==>  75 loss ==>  0.004301563952760771\n",
            "epoch ==>  76 loss ==>  0.004247754027736373\n",
            "epoch ==>  77 loss ==>  0.004205492124813609\n",
            "epoch ==>  78 loss ==>  0.004140904328762554\n",
            "epoch ==>  79 loss ==>  0.00409896327785682\n",
            "epoch ==>  80 loss ==>  0.004032097990135662\n",
            "epoch ==>  81 loss ==>  0.00396743611234473\n",
            "epoch ==>  82 loss ==>  0.003928687305659987\n",
            "epoch ==>  83 loss ==>  0.0038785354640125296\n",
            "epoch ==>  84 loss ==>  0.0038047341652330943\n",
            "epoch ==>  85 loss ==>  0.0037755285468604417\n",
            "epoch ==>  86 loss ==>  0.00371788548584329\n",
            "epoch ==>  87 loss ==>  0.0036507901746057904\n",
            "epoch ==>  88 loss ==>  0.00361723240331281\n",
            "epoch ==>  89 loss ==>  0.0036686756206536666\n",
            "epoch ==>  90 loss ==>  0.003650320839418564\n",
            "epoch ==>  91 loss ==>  0.003565898035452701\n",
            "epoch ==>  92 loss ==>  0.003569445167039521\n",
            "epoch ==>  93 loss ==>  0.003506882237943355\n",
            "epoch ==>  94 loss ==>  0.0034004201046470553\n",
            "epoch ==>  95 loss ==>  0.003427243464796338\n",
            "epoch ==>  96 loss ==>  0.0033624942429293877\n",
            "epoch ==>  97 loss ==>  0.0033377669742307627\n",
            "epoch ==>  98 loss ==>  0.003229633435532451\n",
            "epoch ==>  99 loss ==>  0.0031881173960282465\n"
          ],
          "name": "stdout"
        }
      ]
    },
    {
      "cell_type": "markdown",
      "metadata": {
        "id": "XjV6Vvdwh7YL"
      },
      "source": [
        "## ToDo: use matplot lib to plot the loss"
      ]
    },
    {
      "cell_type": "code",
      "metadata": {
        "id": "G8RV3mWbicLV",
        "colab": {
          "base_uri": "https://localhost:8080/",
          "height": 282
        },
        "outputId": "8d60c16a-ec28-49d7-a8f9-f5b811e35ceb"
      },
      "source": [
        "# Your code should ne here\n",
        "plt.plot(losses)"
      ],
      "execution_count": null,
      "outputs": [
        {
          "output_type": "execute_result",
          "data": {
            "text/plain": [
              "[<matplotlib.lines.Line2D at 0x7f1b709ab650>]"
            ]
          },
          "metadata": {
            "tags": []
          },
          "execution_count": 96
        },
        {
          "output_type": "display_data",
          "data": {
            "image/png": "[encoded data removed]",
            "text/plain": [
              "<Figure size 432x288 with 1 Axes>"
            ]
          },
          "metadata": {
            "tags": [],
            "needs_background": "light"
          }
        }
      ]
    },
    {
      "cell_type": "markdown",
      "metadata": {
        "id": "jaTV06M9ifwV"
      },
      "source": [
        "\n",
        "\n",
        "\n",
        "---\n",
        "\n",
        "\n",
        "\n",
        "---\n",
        "\n",
        "\n",
        "\n",
        "---\n",
        "\n",
        "\n",
        "---\n",
        "\n",
        "\n",
        "\n",
        "---\n",
        "\n"
      ]
    },
    {
      "cell_type": "markdown",
      "metadata": {
        "id": "MBTXQJgxinj_"
      },
      "source": [
        "Now that we have trained our model, we need to know how much this model will perform (in term of accuracy) on the validation set.\n",
        "\n",
        "The performance on the validation set should give us a good hint, on how well our model will perform on the test set.\n",
        "\n"
      ]
    },
    {
      "cell_type": "code",
      "metadata": {
        "id": "xtcLb9uASNo4"
      },
      "source": [
        "# Run this cell\n",
        "\n",
        "BS = 256 \n",
        "N_val = x_val.shape[0]\n",
        "\n",
        "if N_val % BS == 0:\n",
        "  n_batches = int(N_val / BS)\n",
        "else:\n",
        "  n_batches = int(N_val / BS) + 1"
      ],
      "execution_count": null,
      "outputs": []
    },
    {
      "cell_type": "markdown",
      "metadata": {
        "id": "BvreKsQVju9z"
      },
      "source": [
        "#### ToDo: fill in the missing lines to compute the accuracy on the test set."
      ]
    },
    {
      "cell_type": "code",
      "metadata": {
        "id": "M8EIkvmIwfxl",
        "colab": {
          "base_uri": "https://localhost:8080/"
        },
        "outputId": "20dbc115-9cb5-455c-f1d5-12fdf7f9ba59"
      },
      "source": [
        "correct = 0\n",
        "total = 0\n",
        "\n",
        "# Add the no grad context manager (covered in the tutorial)\n",
        "with torch.no_grad():      \n",
        "  for batch in range(n_batches):\n",
        "\n",
        "    start = batch * BS\n",
        "    end = start + BS\n",
        "\n",
        "    val_images = x_val[start:end]\n",
        "    val_labels = y_val[start:end]\n",
        "\n",
        "    val_images =  val_images.to(device = device)      # change the device of val_images to gpu\n",
        "    val_labels =  val_labels.to(device = device)      # change the device of val_labels to gpu\n",
        "\n",
        "    outputs = model(val_images)          # feed the val_images to the model to get the outputs\n",
        "\n",
        "    _,predicted = torch.max(outputs,1)        # compute the argmax of the outputs to get the predicted labels\n",
        "    \n",
        "    total += val_labels.size(0)\n",
        "    \n",
        "    correct += (predicted == val_labels).sum().item()\n",
        "\n",
        "print('Accuracy of the network on the %d test images: %d %%' % (total, 100 * correct / total))"
      ],
      "execution_count": null,
      "outputs": [
        {
          "output_type": "stream",
          "text": [
            "Accuracy of the network on the 10000 test images: 87 %\n"
          ],
          "name": "stdout"
        }
      ]
    },
    {
      "cell_type": "markdown",
      "metadata": {
        "id": "O89dx5apqnal"
      },
      "source": [
        "# You are expected to get good val acc > 70% at least"
      ]
    },
    {
      "cell_type": "markdown",
      "metadata": {
        "id": "UPzjRtH6qtrg"
      },
      "source": [
        "\n",
        "\n",
        "---\n",
        "\n",
        "\n",
        "\n",
        "---\n",
        "\n",
        "\n",
        "\n",
        "---\n",
        "\n"
      ]
    }
  ]
}